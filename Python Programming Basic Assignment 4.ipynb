{
 "cells": [
  {
   "cell_type": "markdown",
   "id": "ab639a30",
   "metadata": {},
   "source": [
    "### 1.\tWrite a Python Program to Find the Factorial of a Number?"
   ]
  },
  {
   "cell_type": "code",
   "execution_count": 12,
   "id": "38841ebe",
   "metadata": {},
   "outputs": [
    {
     "name": "stdout",
     "output_type": "stream",
     "text": [
      "enter your number: 0\n",
      "factorial =  1\n"
     ]
    }
   ],
   "source": [
    "n = int(input(\"enter your number: \"))\n",
    "if n == 0:\n",
    "    print(\"factorial = \",1)\n",
    "else:\n",
    "    for i in range(n-1,0,-1):\n",
    "        n = n*i\n",
    "    print(\"factorial = \",n)"
   ]
  },
  {
   "cell_type": "markdown",
   "id": "ce5c7d4b",
   "metadata": {},
   "source": [
    "### 2.\tWrite a Python Program to Display the multiplication Table?"
   ]
  },
  {
   "cell_type": "code",
   "execution_count": 14,
   "id": "c49a553c",
   "metadata": {},
   "outputs": [
    {
     "name": "stdout",
     "output_type": "stream",
     "text": [
      "enter the number you want your table for: 6\n",
      "enter the limit of your table: 45\n",
      "your table is below: \n",
      " 6 x 1 = 6\n",
      " 6 x 2 = 12\n",
      " 6 x 3 = 18\n",
      " 6 x 4 = 24\n",
      " 6 x 5 = 30\n",
      " 6 x 6 = 36\n",
      " 6 x 7 = 42\n",
      " 6 x 8 = 48\n",
      " 6 x 9 = 54\n",
      " 6 x 10 = 60\n",
      " 6 x 11 = 66\n",
      " 6 x 12 = 72\n",
      " 6 x 13 = 78\n",
      " 6 x 14 = 84\n",
      " 6 x 15 = 90\n",
      " 6 x 16 = 96\n",
      " 6 x 17 = 102\n",
      " 6 x 18 = 108\n",
      " 6 x 19 = 114\n",
      " 6 x 20 = 120\n",
      " 6 x 21 = 126\n",
      " 6 x 22 = 132\n",
      " 6 x 23 = 138\n",
      " 6 x 24 = 144\n",
      " 6 x 25 = 150\n",
      " 6 x 26 = 156\n",
      " 6 x 27 = 162\n",
      " 6 x 28 = 168\n",
      " 6 x 29 = 174\n",
      " 6 x 30 = 180\n",
      " 6 x 31 = 186\n",
      " 6 x 32 = 192\n",
      " 6 x 33 = 198\n",
      " 6 x 34 = 204\n",
      " 6 x 35 = 210\n",
      " 6 x 36 = 216\n",
      " 6 x 37 = 222\n",
      " 6 x 38 = 228\n",
      " 6 x 39 = 234\n",
      " 6 x 40 = 240\n",
      " 6 x 41 = 246\n",
      " 6 x 42 = 252\n",
      " 6 x 43 = 258\n",
      " 6 x 44 = 264\n",
      " 6 x 45 = 270\n"
     ]
    }
   ],
   "source": [
    "n = int(input(\"enter the number you want your table for: \"))\n",
    "m = int(input(\"enter the limit of your table: \"))\n",
    "print(\"your table is below: \")\n",
    "for i in range(1,m+1):\n",
    "    print(\" {} x {} = {}\".format(n,i,n*i))"
   ]
  },
  {
   "cell_type": "markdown",
   "id": "39ea3840",
   "metadata": {},
   "source": [
    "### 3.\tWrite a Python Program to Print the Fibonacci sequence?"
   ]
  },
  {
   "cell_type": "code",
   "execution_count": 21,
   "id": "65c5b708",
   "metadata": {},
   "outputs": [
    {
     "name": "stdout",
     "output_type": "stream",
     "text": [
      "how many fibonacci numbers do you want? 20\n",
      "your sequence is :  0 1 1 2 3 5 8 13 21 34 55 89 144 233 377 610 987 1597 2584 4181\n"
     ]
    }
   ],
   "source": [
    "n = int(input(\"how many fibonacci numbers do you want? \"))\n",
    "list1=[0,1]\n",
    "if n==1:\n",
    "    print(\"your sequence is : \",list1[0])\n",
    "elif n==2:\n",
    "    print(\"your sequence is : \",*list1)\n",
    "else:\n",
    "    for i in range(2,n):\n",
    "        list1.append(list1[-1]+list1[-2])\n",
    "    print(\"your sequence is : \",*list1)"
   ]
  },
  {
   "cell_type": "markdown",
   "id": "32767b6f",
   "metadata": {},
   "source": [
    "### 4.\tWrite a Python Program to Check Armstrong Number?"
   ]
  },
  {
   "cell_type": "code",
   "execution_count": 4,
   "id": "c498d831",
   "metadata": {},
   "outputs": [],
   "source": [
    "def armstrong(n):\n",
    "    list1 = list(n)\n",
    "    list2 = [int(x)**len(list1) for x in list1]\n",
    "    if int(n) == sum(list2):\n",
    "        return 1\n",
    "    else :\n",
    "        return 0"
   ]
  },
  {
   "cell_type": "code",
   "execution_count": 6,
   "id": "688d31bc",
   "metadata": {},
   "outputs": [
    {
     "name": "stdout",
     "output_type": "stream",
     "text": [
      "enter your number : 371\n",
      "it is a armstrong number\n"
     ]
    }
   ],
   "source": [
    "n = input(\"enter your number : \")\n",
    "f = armstrong(n)\n",
    "if f == 1:\n",
    "    print(\"it is a armstrong number\")\n",
    "else:\n",
    "    print(\"it is not a armstrong number\")"
   ]
  },
  {
   "cell_type": "markdown",
   "id": "8683aaaa",
   "metadata": {},
   "source": [
    "### 5.\tWrite a Python Program to Find Armstrong Number in an Interval?"
   ]
  },
  {
   "cell_type": "code",
   "execution_count": 7,
   "id": "2ef2c1e2",
   "metadata": {},
   "outputs": [],
   "source": [
    "def armstrong(n):\n",
    "    list1 = list(n)\n",
    "    list2 = [int(x)**len(list1) for x in list1]\n",
    "    if int(n) == sum(list2):\n",
    "        return 1\n",
    "    else :\n",
    "        return 0"
   ]
  },
  {
   "cell_type": "code",
   "execution_count": 8,
   "id": "bb6e5033",
   "metadata": {},
   "outputs": [
    {
     "name": "stdout",
     "output_type": "stream",
     "text": [
      "enter the starting number: 0\n",
      "enter the ending number: 10000\n",
      "0 1 2 3 4 5 6 7 8 9 153 370 371 407 1634 8208 9474\n"
     ]
    }
   ],
   "source": [
    "a = int(input(\"enter the starting number: \"))\n",
    "b = int(input(\"enter the ending number: \"))\n",
    "list3 = []\n",
    "for i in range(a,b+1):\n",
    "    y = armstrong(str(i))\n",
    "    if y==1:\n",
    "        list3.append(i)\n",
    "print(*list3)"
   ]
  },
  {
   "cell_type": "markdown",
   "id": "d738b474",
   "metadata": {},
   "source": [
    "### 6.\tWrite a Python Program to Find the Sum of Natural Numbers?"
   ]
  },
  {
   "cell_type": "code",
   "execution_count": 10,
   "id": "cce94575",
   "metadata": {},
   "outputs": [
    {
     "name": "stdout",
     "output_type": "stream",
     "text": [
      "enter the starting number: 1\n",
      "enter the starting number: 10\n",
      "55\n"
     ]
    }
   ],
   "source": [
    "n = int(input(\"enter the starting number: \"))\n",
    "m = int(input(\"enter the starting number: \"))\n",
    "sum=0\n",
    "for i in range(n,m+1):\n",
    "    sum += i\n",
    "print(sum)"
   ]
  }
 ],
 "metadata": {
  "kernelspec": {
   "display_name": "Python 3",
   "language": "python",
   "name": "python3"
  },
  "language_info": {
   "codemirror_mode": {
    "name": "ipython",
    "version": 3
   },
   "file_extension": ".py",
   "mimetype": "text/x-python",
   "name": "python",
   "nbconvert_exporter": "python",
   "pygments_lexer": "ipython3",
   "version": "3.8.8"
  }
 },
 "nbformat": 4,
 "nbformat_minor": 5
}
