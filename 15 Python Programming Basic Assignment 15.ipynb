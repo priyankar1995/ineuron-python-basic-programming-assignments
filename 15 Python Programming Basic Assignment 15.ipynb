{
 "cells": [
  {
   "cell_type": "markdown",
   "id": "30551dcf",
   "metadata": {},
   "source": [
    "### Question 1:\n",
    "Please write a program using generator to print the numbers which can be divisible by 5 and 7 between 0 and n in comma separated form while n is input by console.\n",
    "\n",
    "Example:\n",
    "\n",
    "If the following n is given as input to the program:\n",
    "\n",
    "100\n",
    "\n",
    "Then, the output of the program should be:\n",
    "\n",
    "0,35,70\n"
   ]
  },
  {
   "cell_type": "code",
   "execution_count": 31,
   "id": "e3ad3c2e",
   "metadata": {},
   "outputs": [],
   "source": [
    "def divisible(x):\n",
    "    for i in range(x+1):\n",
    "        if i%5 == 0 and i%7== 0:\n",
    "            yield i    "
   ]
  },
  {
   "cell_type": "code",
   "execution_count": 32,
   "id": "a03b35f1",
   "metadata": {},
   "outputs": [
    {
     "name": "stdout",
     "output_type": "stream",
     "text": [
      "enter your limit: 500\n",
      "\n",
      " 0,35,70,105,140,175,210,245,280,315,350,385,420,455,490\n"
     ]
    }
   ],
   "source": [
    "n = int(input(\"enter your limit: \"))\n",
    "list1 = []\n",
    "for i in divisible(n):\n",
    "    list1.append(i)\n",
    "print('\\n',','.join(list(map(str,list1))))"
   ]
  },
  {
   "cell_type": "markdown",
   "id": "83e068e7",
   "metadata": {},
   "source": [
    "### Question 2:\n",
    "Please write a program using generator to print the even numbers between 0 and n in comma separated form while n is input by console.\n",
    "\n",
    "Example:\n",
    "\n",
    "If the following n is given as input to the program:\n",
    "\n",
    "10\n",
    "\n",
    "Then, the output of the program should be:\n",
    "\n",
    "0,2,4,6,8,10\n"
   ]
  },
  {
   "cell_type": "code",
   "execution_count": 33,
   "id": "0456736c",
   "metadata": {},
   "outputs": [],
   "source": [
    "def even(x):\n",
    "    for i in range(x+1):\n",
    "        if i%2 == 0:\n",
    "            yield i    "
   ]
  },
  {
   "cell_type": "code",
   "execution_count": 34,
   "id": "d919a8a0",
   "metadata": {},
   "outputs": [
    {
     "name": "stdout",
     "output_type": "stream",
     "text": [
      "enter your limit: 10\n",
      "\n",
      " 0,2,4,6,8,10\n"
     ]
    }
   ],
   "source": [
    "n = int(input(\"enter your limit: \"))\n",
    "list1 = []\n",
    "for i in even(n):\n",
    "    list1.append(i)\n",
    "print('\\n',','.join(list(map(str,list1))))"
   ]
  },
  {
   "cell_type": "markdown",
   "id": "fd80c0d9",
   "metadata": {},
   "source": [
    "### Question 3:\n",
    "The Fibonacci Sequence is computed based on the following formula:\n",
    "\n",
    "f(n)=0 if n=0\n",
    "\n",
    "f(n)=1 if n=1\n",
    "\n",
    "f(n)=f(n-1)+f(n-2) if n>1\n",
    "\n",
    "\n",
    "Please write a program using list comprehension to print the Fibonacci Sequence in comma separated form with a given n input by console.\n",
    "\n",
    "Example:\n",
    "\n",
    "If the following n is given as input to the program:\n",
    "\n",
    "7\n",
    "\n",
    "Then, the output of the program should be:\n",
    "\n",
    "0,1,1,2,3,5,8,13\n"
   ]
  },
  {
   "cell_type": "code",
   "execution_count": 13,
   "id": "b0a2485f",
   "metadata": {},
   "outputs": [
    {
     "name": "stdout",
     "output_type": "stream",
     "text": [
      "[2, 2, 2, 2, 2, 2, 2]\n",
      "[0, 0, 0, 0, 0, 0, 0]\n"
     ]
    }
   ],
   "source": [
    "num = 7\n",
    "list1 = [0,1]\n",
    "list2 = [0]*num\n",
    "list1 = [list1[(len(list1)-1)]+list1[(len(list1)-1)] for x in list2]\n",
    "print(list1)\n",
    "print(list2)"
   ]
  },
  {
   "cell_type": "code",
   "execution_count": 2,
   "id": "55aae3c7",
   "metadata": {},
   "outputs": [
    {
     "name": "stdout",
     "output_type": "stream",
     "text": [
      "[1, 1]\n"
     ]
    }
   ],
   "source": [
    "list1 = [0,1]\n",
    "list1 = [list1[-1]+list1[-2] for x in list1 if len(list1) != 7]\n",
    "print(list1)"
   ]
  },
  {
   "cell_type": "code",
   "execution_count": 5,
   "id": "204af5a7",
   "metadata": {},
   "outputs": [
    {
     "name": "stdout",
     "output_type": "stream",
     "text": [
      "1\n",
      "3\n",
      "4\n",
      "5\n"
     ]
    }
   ],
   "source": [
    "list2 = [1,3,4,5]\n",
    "list2 = [print(x) for x in list2]"
   ]
  },
  {
   "cell_type": "markdown",
   "id": "c429f9af",
   "metadata": {},
   "source": [
    "### Question 4:\n",
    "Assuming that we have some email addresses in the \"username@companyname.com\" format, please write program to print the user name of a given email address. Both user names and company names are composed of letters only.\n",
    "\n",
    "Example:\n",
    "\n",
    "If the following email address is given as input to the program:\n",
    "\n",
    "john@google.com\n",
    "\n",
    "Then, the output of the program should be:\n",
    "\n",
    "john\n"
   ]
  },
  {
   "cell_type": "code",
   "execution_count": 5,
   "id": "b5659829",
   "metadata": {},
   "outputs": [
    {
     "name": "stdout",
     "output_type": "stream",
     "text": [
      "please enter the email address: sdaf#@\n",
      "\n",
      "user name is:  sdaf#\n"
     ]
    }
   ],
   "source": [
    "str1 = input(\"please enter the email address: \")\n",
    "str2 = ''\n",
    "for i in str1:\n",
    "    if i != '@':\n",
    "        str2 += i\n",
    "    else:\n",
    "        break\n",
    "\n",
    "print('\\nuser name is: ',str2)"
   ]
  },
  {
   "cell_type": "markdown",
   "id": "f3fc7636",
   "metadata": {},
   "source": [
    "### Question 5:\n",
    "Define a class named Shape and its subclass Square. The Square class has an init function which takes a length as argument. Both classes have a area function which can print the area of the shape where Shape's area is 0 by default.\n"
   ]
  },
  {
   "cell_type": "code",
   "execution_count": 3,
   "id": "11e76e58",
   "metadata": {},
   "outputs": [],
   "source": [
    "class Shape(object):\n",
    "    def __init__(self):\n",
    "        pass\n",
    "\n",
    "    def area(self):\n",
    "        return 0\n",
    "\n",
    "class Square(Shape):\n",
    "    def __init__(self,l):    \n",
    "        self.length = l\n",
    "\n",
    "    def area(self):\n",
    "        return self.length*self.length\n",
    "    "
   ]
  },
  {
   "cell_type": "code",
   "execution_count": 4,
   "id": "015597d4",
   "metadata": {},
   "outputs": [
    {
     "name": "stdout",
     "output_type": "stream",
     "text": [
      "Enter The Length: 6\n"
     ]
    },
    {
     "data": {
      "text/plain": [
       "36"
      ]
     },
     "execution_count": 4,
     "metadata": {},
     "output_type": "execute_result"
    }
   ],
   "source": [
    "obsquare = Square(int(input(\"Enter The Length: \")))\n",
    "obsquare.area()"
   ]
  }
 ],
 "metadata": {
  "kernelspec": {
   "display_name": "Python 3",
   "language": "python",
   "name": "python3"
  },
  "language_info": {
   "codemirror_mode": {
    "name": "ipython",
    "version": 3
   },
   "file_extension": ".py",
   "mimetype": "text/x-python",
   "name": "python",
   "nbconvert_exporter": "python",
   "pygments_lexer": "ipython3",
   "version": "3.8.8"
  }
 },
 "nbformat": 4,
 "nbformat_minor": 5
}
