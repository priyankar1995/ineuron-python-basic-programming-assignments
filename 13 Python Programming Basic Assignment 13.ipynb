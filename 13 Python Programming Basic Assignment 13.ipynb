{
 "cells": [
  {
   "cell_type": "markdown",
   "id": "c3e5713b",
   "metadata": {},
   "source": [
    "### Question 1:\n",
    "\n",
    "Write a program that calculates and prints the value according to the given formula:\n",
    "\n",
    "Q = Square root of [(2 * C * D)/H]\n",
    "\n",
    "Following are the fixed values of C and H:\n",
    "\n",
    "C is 50. H is 30.\n",
    "\n",
    "D is the variable whose values should be input to your program in a comma-separated sequence.\n",
    "\n",
    "Example\n",
    "\n",
    "Let us assume the following comma separated input sequence is given to the program:\n",
    "\n",
    "100,150,180\n",
    "\n",
    "The output of the program should be:\n",
    "\n",
    "18,22,24\n"
   ]
  },
  {
   "cell_type": "code",
   "execution_count": 14,
   "id": "d8b8e0a3",
   "metadata": {},
   "outputs": [
    {
     "name": "stdout",
     "output_type": "stream",
     "text": [
      "100,150,180\n",
      "18 22 24\n"
     ]
    }
   ],
   "source": [
    "list1 = list(map(int,input().split(',')))\n",
    "list2 = []\n",
    "C = 50\n",
    "H = 30\n",
    "for i in list1:\n",
    "    Q = ((2 * C * i)/H)**0.5\n",
    "    list2.append(int(Q))\n",
    "print(*list2)\n"
   ]
  },
  {
   "cell_type": "markdown",
   "id": "8930b840",
   "metadata": {},
   "source": [
    "### Question 2:\n",
    "Write a program which takes 2 digits, X,Y as input and generates a 2-dimensional array. The element value in the i-th row and j-th column of the array should be i*j.\n",
    "\n",
    "Note: i=0,1.., X-1; j=0,1,¡¬Y-1.\n",
    "\n",
    "Example\n",
    "\n",
    "Suppose the following inputs are given to the program:\n",
    "\n",
    "3,5\n",
    "\n",
    "Then, the output of the program should be:\n",
    "\n",
    "[[0, 0, 0, 0, 0], [0, 1, 2, 3, 4], [0, 2, 4, 6, 8]] \n"
   ]
  },
  {
   "cell_type": "code",
   "execution_count": 4,
   "id": "7505eefa",
   "metadata": {},
   "outputs": [
    {
     "name": "stdout",
     "output_type": "stream",
     "text": [
      "6,5\n",
      "[[0, 0, 0, 0, 0], [0, 1, 2, 3, 4], [0, 2, 4, 6, 8], [0, 3, 6, 9, 12], [0, 4, 8, 12, 16], [0, 5, 10, 15, 20]]\n"
     ]
    }
   ],
   "source": [
    "x,y = tuple(map(int,input().split(\",\")))\n",
    "list1 = []\n",
    "\n",
    "for i in range(x):\n",
    "    list2 = []\n",
    "    sum0 = 0\n",
    "    for j in range(y):\n",
    "        list2.append(sum0)\n",
    "        sum0 += i        \n",
    "    list1.append(list2)\n",
    "print(list1)"
   ]
  },
  {
   "cell_type": "markdown",
   "id": "79c185f7",
   "metadata": {},
   "source": [
    "### Question 3:\n",
    "Write a program that accepts a comma separated sequence of words as input and prints the words in a comma-separated sequence after sorting them alphabetically.\n",
    "\n",
    "Suppose the following input is supplied to the program:\n",
    "\n",
    "without,hello,bag,world\n",
    "\n",
    "Then, the output should be:\n",
    "\n",
    "bag,hello,without,world\n",
    "\n"
   ]
  },
  {
   "cell_type": "code",
   "execution_count": 7,
   "id": "68036966",
   "metadata": {},
   "outputs": [
    {
     "name": "stdout",
     "output_type": "stream",
     "text": [
      "asedf,der,fdg,rtgrg\n",
      "['asedf', 'der', 'fdg', 'rtgrg']\n"
     ]
    }
   ],
   "source": [
    "word_list = list(input().split(\",\"))\n",
    "sort_list = sorted(word_list)\n",
    "print(sort_list)"
   ]
  },
  {
   "cell_type": "markdown",
   "id": "b922fc36",
   "metadata": {},
   "source": [
    "### Question 4:\n",
    "Write a program that accepts a sequence of whitespace separated words as input and prints the words after removing all duplicate words and sorting them alphanumerically.\n",
    "\n",
    "Suppose the following input is supplied to the program:\n",
    "\n",
    "hello world and practice makes perfect and hello world again\n",
    "\n",
    "Then, the output should be:\n",
    "\n",
    "again and hello makes perfect practice world\n"
   ]
  },
  {
   "cell_type": "code",
   "execution_count": 9,
   "id": "3830b619",
   "metadata": {},
   "outputs": [
    {
     "name": "stdout",
     "output_type": "stream",
     "text": [
      "hello world and practice makes perfect and hello world again\n",
      "again and hello makes perfect practice world\n"
     ]
    }
   ],
   "source": [
    "word_list = list(input().split())\n",
    "unique_list = list(set(word_list))\n",
    "unique_list = sorted(unique_list)\n",
    "print(*unique_list)"
   ]
  },
  {
   "cell_type": "markdown",
   "id": "38f7c7fb",
   "metadata": {},
   "source": [
    "### Question 5:\n",
    "Write a program that accepts a sentence and calculate the number of letters and digits.\n",
    "\n",
    "Suppose the following input is supplied to the program:\n",
    "\n",
    "hello world! 123\n",
    "\n",
    "Then, the output should be:\n",
    "\n",
    "LETTERS 10\n",
    "\n",
    "DIGITS 3\n"
   ]
  },
  {
   "cell_type": "code",
   "execution_count": 12,
   "id": "ba6f6132",
   "metadata": {},
   "outputs": [
    {
     "name": "stdout",
     "output_type": "stream",
     "text": [
      "hello world! 123\n",
      "LETTERS 10\n",
      "DIGITs 3\n"
     ]
    }
   ],
   "source": [
    "str1 = input()\n",
    "letter_list = list(range(65,91)) + list(range(97,123))\n",
    "num_list = list(range(48,58))\n",
    "count_let = 0\n",
    "count_num = 0\n",
    "for i in str1:\n",
    "    if ord(i) in letter_list:\n",
    "        count_let += 1\n",
    "    elif ord(i) in num_list:\n",
    "        count_num += 1\n",
    "print(\"LETTERS\", count_let)\n",
    "print(\"DIGITs\", count_num)\n",
    "    \n"
   ]
  },
  {
   "cell_type": "markdown",
   "id": "130d16c2",
   "metadata": {},
   "source": [
    "### Question 6:\n",
    "A website requires the users to input username and password to register. Write a program to check the validity of password input by users.\n",
    "\n",
    "Following are the criteria for checking the password:\n",
    "\n",
    "1. At least 1 letter between [a-z]\n",
    "\n",
    "2. At least 1 number between [0-9]\n",
    "\n",
    "1. At least 1 letter between [A-Z]\n",
    "\n",
    "3. At least 1 character from [$#@]\n",
    "\n",
    "4. Minimum length of transaction password: 6\n",
    "\n",
    "5. Maximum length of transaction password: 12\n",
    "\n",
    "Your program should accept a sequence of comma separated passwords and will check them according to the above criteria. Passwords that match the criteria are to be printed, each separated by a comma.\n",
    "\n",
    "Example\n",
    "\n",
    "If the following passwords are given as input to the program:\n",
    "\n",
    "ABd1234@1,a F1#,2w3E*,2We3345\n",
    "\n",
    "Then, the output of the program should be:\n",
    "\n",
    "ABd1234@1\n"
   ]
  },
  {
   "cell_type": "code",
   "execution_count": 33,
   "id": "10e5d240",
   "metadata": {},
   "outputs": [
    {
     "name": "stdout",
     "output_type": "stream",
     "text": [
      "gsh313$DF,fseGDF@123,se@#fe45DG,gf$,#@$GHFD,123asdf,DFGsae,2343@#\n",
      "\n",
      "your valid passwords are:\n",
      "gsh313$DF\n",
      "fseGDF@123\n",
      "se@#fe45DG\n"
     ]
    }
   ],
   "source": [
    "pass_list = list(input().split(','))\n",
    "list1 = []\n",
    "print(\"\\nyour valid passwords are:\")\n",
    "for i in pass_list:    \n",
    "    if len(i) < 12  and len(i) > 6:\n",
    "        lo_count,up_count,dig_count,char_count = 0,0,0,0\n",
    "        for j in i:\n",
    "            if j.islower() == True:\n",
    "                lo_count += 1\n",
    "            elif j.isupper() == True:\n",
    "                up_count += 1\n",
    "            elif j.isdigit() == True:\n",
    "                dig_count += 1\n",
    "            elif j in ['#','@','$']:\n",
    "                char_count += 1\n",
    "        if lo_count >= 1 and up_count >= 1 and dig_count >= 1 and char_count >= 1:\n",
    "            print(i)   "
   ]
  }
 ],
 "metadata": {
  "kernelspec": {
   "display_name": "Python 3",
   "language": "python",
   "name": "python3"
  },
  "language_info": {
   "codemirror_mode": {
    "name": "ipython",
    "version": 3
   },
   "file_extension": ".py",
   "mimetype": "text/x-python",
   "name": "python",
   "nbconvert_exporter": "python",
   "pygments_lexer": "ipython3",
   "version": "3.8.8"
  }
 },
 "nbformat": 4,
 "nbformat_minor": 5
}
