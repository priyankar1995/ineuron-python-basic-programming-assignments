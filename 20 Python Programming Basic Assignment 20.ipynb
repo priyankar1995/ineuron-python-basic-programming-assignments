{
 "cells": [
  {
   "cell_type": "markdown",
   "id": "20dbcfa8",
   "metadata": {},
   "source": [
    "### Question1\n",
    "Create a function that takes a list of strings and integers, and filters out the list so that it returns a list of integers only.\n",
    "\n",
    "Examples\n",
    "\n",
    "filter_list([1, 2, 3, \"a\", \"b\", 4]) ➞ [1, 2, 3, 4]\n",
    "\n",
    "filter_list([\"A\", 0, \"Edabit\", 1729, \"Python\", \"1729\"]) ➞ [0, 1729]\n",
    "\n",
    "filter_list([\"Nothing\", \"here\"]) ➞ []\n",
    "\n"
   ]
  },
  {
   "cell_type": "code",
   "execution_count": 1,
   "id": "21091424",
   "metadata": {},
   "outputs": [],
   "source": [
    "def filter_list(list1):\n",
    "    list2 = []\n",
    "    for i in list1:\n",
    "        try:\n",
    "            list2.append(int(i))\n",
    "        except:\n",
    "            pass\n",
    "    return list2"
   ]
  },
  {
   "cell_type": "code",
   "execution_count": 4,
   "id": "39c1f6f0",
   "metadata": {},
   "outputs": [
    {
     "name": "stdout",
     "output_type": "stream",
     "text": [
      "enter your list (comma and space separated): \"Nothing\", \"here\"\n",
      "\n",
      "your new filtered list\n",
      " []\n"
     ]
    }
   ],
   "source": [
    "list1 = input(\"enter your list (comma and space separated): \").split(', ')\n",
    "print('\\nyour new filtered list\\n',filter_list(list1))"
   ]
  },
  {
   "cell_type": "markdown",
   "id": "7ca38e5b",
   "metadata": {},
   "source": [
    "### Question2\n",
    "Given a list of numbers, create a function which returns the list but with each element's index in the list added to itself. This means you add 0 to the number at index 0, add 1 to the number at index 1, etc...\n",
    "\n",
    "Examples\n",
    "\n",
    "add_indexes([0, 0, 0, 0, 0]) ➞ [0, 1, 2, 3, 4]\n",
    "\n",
    "add_indexes([1, 2, 3, 4, 5]) ➞ [1, 3, 5, 7, 9]\n",
    "\n",
    "add_indexes([5, 4, 3, 2, 1]) ➞ [5, 5, 5, 5, 5]\n"
   ]
  },
  {
   "cell_type": "code",
   "execution_count": 6,
   "id": "5e1bb3df",
   "metadata": {},
   "outputs": [],
   "source": [
    "def add_indexes(list1):\n",
    "    list2 = []\n",
    "    for i,j in enumerate(list1):\n",
    "        list2.append(i+j)\n",
    "    return(list2)"
   ]
  },
  {
   "cell_type": "code",
   "execution_count": 11,
   "id": "b471e3a3",
   "metadata": {},
   "outputs": [
    {
     "name": "stdout",
     "output_type": "stream",
     "text": [
      "enter your list(comma and space separated): 5, 5, 5, 5, 5\n",
      "\n",
      "your output list\n",
      " [5, 6, 7, 8, 9]\n"
     ]
    }
   ],
   "source": [
    "list1 = list(map(int,input(\"enter your list(comma and space separated): \").split(', ')))\n",
    "print('\\nyour output list\\n',add_indexes(list1))"
   ]
  },
  {
   "cell_type": "markdown",
   "id": "3d324dc9",
   "metadata": {},
   "source": [
    "### Question3\n",
    "Create a function that takes the height and radius of a cone as arguments and returns the volume of the cone rounded to the nearest hundredth. See the resources tab for the formula.\n",
    " \n",
    "Examples\n",
    "\n",
    "cone_volume(3, 2) ➞ 12.57\n",
    "\n",
    "cone_volume(15, 6) ➞ 565.49\n",
    "\n",
    "cone_volume(18, 0) ➞ 0\n",
    "\n"
   ]
  },
  {
   "cell_type": "code",
   "execution_count": 14,
   "id": "68678cb6",
   "metadata": {},
   "outputs": [],
   "source": [
    "from math import pi\n",
    "def cone_volume(height,radius):\n",
    "    volume = (pi*(radius**2)*height)/3\n",
    "    return '{0:.2f}'.format(volume)"
   ]
  },
  {
   "cell_type": "code",
   "execution_count": 18,
   "id": "be3d7ac9",
   "metadata": {},
   "outputs": [
    {
     "name": "stdout",
     "output_type": "stream",
     "text": [
      "enter the height of the cone: 3\n",
      "enter the radius of the cobe: 2\n",
      "\n",
      "volume of your cone =  12.57\n"
     ]
    }
   ],
   "source": [
    "height = float(input(\"enter the height of the cone: \"))\n",
    "radius = float(input(\"enter the radius of the cobe: \"))\n",
    "print(\"\\nvolume of your cone = \", cone_volume(height,radius))"
   ]
  },
  {
   "cell_type": "markdown",
   "id": "1214e17a",
   "metadata": {},
   "source": [
    "### Question4\n",
    "This Triangular Number Sequence is generated from a pattern of dots that form a triangle. The first 5 numbers of the sequence, or dots, are: \n",
    "1, 3, 6, 10, 15\n",
    "\n",
    "This means that the first triangle has just one dot, the second one has three dots, the third one has 6 dots and so on.\n",
    "\n",
    "Write a function that gives the number of dots with its corresponding triangle number of the sequence.\n",
    "\n",
    "Examples\n",
    "\n",
    "triangle(1) ➞ 1\n",
    "\n",
    "triangle(6) ➞ 21\n",
    "\n",
    "triangle(215) ➞ 23220\n",
    "\n"
   ]
  },
  {
   "cell_type": "code",
   "execution_count": 19,
   "id": "e898c47e",
   "metadata": {},
   "outputs": [],
   "source": [
    "def triangle(n):\n",
    "    dots = sum(range(0,n+1))\n",
    "    return dots\n"
   ]
  },
  {
   "cell_type": "code",
   "execution_count": 22,
   "id": "ff8e1475",
   "metadata": {},
   "outputs": [
    {
     "name": "stdout",
     "output_type": "stream",
     "text": [
      "enter the triangle number: 215\n",
      "\n",
      "the number of dots =  23220\n"
     ]
    }
   ],
   "source": [
    "n = int(input('enter the triangle number: '))\n",
    "print(\"\\nthe number of dots = \",triangle(n))"
   ]
  },
  {
   "cell_type": "markdown",
   "id": "01625f38",
   "metadata": {},
   "source": [
    "### Question5\n",
    "Create a function that takes a list of numbers between 1 and 10 (excluding one number) and returns the missing number.\n",
    "\n",
    "Examples\n",
    "\n",
    "missing_num([1, 2, 3, 4, 6, 7, 8, 9, 10]) ➞ 5\n",
    "\n",
    "missing_num([7, 2, 3, 6, 5, 9, 1, 4, 8]) ➞ 10\n",
    "\n",
    "missing_num([10, 5, 1, 2, 4, 6, 8, 3, 9]) ➞ 7\n",
    "\n"
   ]
  },
  {
   "cell_type": "code",
   "execution_count": 1,
   "id": "d6ede699",
   "metadata": {},
   "outputs": [],
   "source": [
    "def missing_num(list1):\n",
    "    missing = sum(range(1,11)) - sum(list1)\n",
    "    return missing"
   ]
  },
  {
   "cell_type": "code",
   "execution_count": 4,
   "id": "fc66a7be",
   "metadata": {},
   "outputs": [
    {
     "name": "stdout",
     "output_type": "stream",
     "text": [
      "enter the list (comma and space separated):10, 5, 1, 2, 4, 6, 8, 3, 9\n",
      "your missing number =  7\n"
     ]
    }
   ],
   "source": [
    "list1 = list(map(int,input(\"enter the list (comma and space separated):\").split(', ')))\n",
    "print(\"your missing number = \",missing_num(list1))"
   ]
  }
 ],
 "metadata": {
  "kernelspec": {
   "display_name": "Python 3",
   "language": "python",
   "name": "python3"
  },
  "language_info": {
   "codemirror_mode": {
    "name": "ipython",
    "version": 3
   },
   "file_extension": ".py",
   "mimetype": "text/x-python",
   "name": "python",
   "nbconvert_exporter": "python",
   "pygments_lexer": "ipython3",
   "version": "3.8.8"
  }
 },
 "nbformat": 4,
 "nbformat_minor": 5
}
