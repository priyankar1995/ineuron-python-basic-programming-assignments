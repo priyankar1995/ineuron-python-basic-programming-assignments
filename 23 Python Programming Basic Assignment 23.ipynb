{
 "cells": [
  {
   "cell_type": "markdown",
   "id": "637f230c",
   "metadata": {},
   "source": [
    "### Question 1\n",
    "Create a function that takes a number as an argument and returns True or False depending on whether the number is symmetrical or not. A number is symmetrical when it is the same as its reverse.\n",
    "\n",
    "Examples\n",
    "\n",
    "is_symmetrical(7227) ➞ True\n",
    "\n",
    "is_symmetrical(12567) ➞ False\n",
    "\n",
    "is_symmetrical(44444444) ➞ True\n",
    "\n",
    "is_symmetrical(9939) ➞ False\n",
    "\n",
    "is_symmetrical(1112111) ➞ True\n"
   ]
  },
  {
   "cell_type": "code",
   "execution_count": 7,
   "id": "f765ac9c",
   "metadata": {},
   "outputs": [],
   "source": [
    "def is_symmetrical(n):\n",
    "    if n == ''.join(list(n)[::-1]):\n",
    "        return 1\n",
    "    else:\n",
    "        return 0"
   ]
  },
  {
   "cell_type": "code",
   "execution_count": 10,
   "id": "70616b93",
   "metadata": {},
   "outputs": [
    {
     "name": "stdout",
     "output_type": "stream",
     "text": [
      "233454332\n",
      "\n",
      "True\n"
     ]
    }
   ],
   "source": [
    "n = input()\n",
    "if is_symmetrical(n) == 1:\n",
    "    print('\\nTrue')\n",
    "else :\n",
    "    print('\\nFalse')\n"
   ]
  },
  {
   "cell_type": "markdown",
   "id": "8306e6aa",
   "metadata": {},
   "source": [
    "### Question 2\n",
    "Given a string of numbers separated by a comma and space, return the product of the numbers.\n",
    "\n",
    "Examples\n",
    "\n",
    "multiply_nums(\"2, 3\") ➞ 6\n",
    "\n",
    "multiply_nums(\"1, 2, 3, 4\") ➞ 24\n",
    "\n",
    "multiply_nums(\"54, 75, 453, 0\") ➞ 0\n",
    "\n",
    "multiply_nums(\"10, -2\") ➞ -20\n"
   ]
  },
  {
   "cell_type": "code",
   "execution_count": 11,
   "id": "132fef57",
   "metadata": {},
   "outputs": [],
   "source": [
    "def multiply_nums(list1):\n",
    "    mul = 1\n",
    "    for i in list1:\n",
    "        mul *= i\n",
    "    return mul"
   ]
  },
  {
   "cell_type": "code",
   "execution_count": 14,
   "id": "f639610e",
   "metadata": {},
   "outputs": [
    {
     "name": "stdout",
     "output_type": "stream",
     "text": [
      "enter your list: 54, 75, 453, 0\n",
      "0\n"
     ]
    }
   ],
   "source": [
    "list1 = list(map(int,input(\"enter your list: \").split(', ')))\n",
    "print(multiply_nums(list1))"
   ]
  },
  {
   "cell_type": "markdown",
   "id": "e27d451f",
   "metadata": {},
   "source": [
    "### Question 3\n",
    "Create a function that squares every digit of a number.\n",
    "\n",
    "Examples\n",
    "\n",
    "square_digits(9119) ➞ 811181\n",
    "\n",
    "square_digits(2483) ➞ 416649\n",
    "\n",
    "square_digits(3212) ➞ 9414\n",
    "\n",
    "Notes\n",
    "\n",
    "The function receives an integer and must return an integer.\n"
   ]
  },
  {
   "cell_type": "code",
   "execution_count": 8,
   "id": "6ec09279",
   "metadata": {},
   "outputs": [],
   "source": [
    "def square_digits(n):\n",
    "    list1 = list(n)\n",
    "    list1 = [str(int(x)**2) for x in list1]\n",
    "    return int(''.join(list1))"
   ]
  },
  {
   "cell_type": "code",
   "execution_count": 11,
   "id": "0271d4bd",
   "metadata": {
    "scrolled": true
   },
   "outputs": [
    {
     "name": "stdout",
     "output_type": "stream",
     "text": [
      "3212\n",
      "9414\n"
     ]
    }
   ],
   "source": [
    "n = input()\n",
    "print(square_digits(n))"
   ]
  },
  {
   "cell_type": "markdown",
   "id": "5a5403d0",
   "metadata": {},
   "source": [
    "### Question 4\n",
    "Create a function that sorts a list and removes all duplicate items from it.\n",
    "\n",
    "Examples\n",
    "\n",
    "setify([1, 3, 3, 5, 5]) ➞ [1, 3, 5]\n",
    "\n",
    "setify([4, 4, 4, 4]) ➞ [4]\n",
    "\n",
    "setify([5, 7, 8, 9, 10, 15]) ➞ [5, 7, 8, 9, 10, 15]\n",
    "\n",
    "setify([3, 3, 3, 2, 1]) ➞ [1, 2, 3]\n"
   ]
  },
  {
   "cell_type": "code",
   "execution_count": 16,
   "id": "d58be69a",
   "metadata": {},
   "outputs": [],
   "source": [
    "def setify(list1):\n",
    "    return sorted(list(set(list1)))"
   ]
  },
  {
   "cell_type": "code",
   "execution_count": 19,
   "id": "3d0cf133",
   "metadata": {},
   "outputs": [
    {
     "name": "stdout",
     "output_type": "stream",
     "text": [
      "enter your items(comma separated): 5,5,5,5,5\n",
      "[5]\n"
     ]
    }
   ],
   "source": [
    "list1 = list(map(int,input(\"enter your items(comma separated): \").split(',')))\n",
    "print(setify(list1))"
   ]
  },
  {
   "cell_type": "markdown",
   "id": "1e316c1e",
   "metadata": {},
   "source": [
    "### Question 5\n",
    "\n",
    "Create a function that returns the mean of all digits.\n",
    "\n",
    "Examples\n",
    "\n",
    "mean(42) ➞ 3\n",
    "\n",
    "mean(12345) ➞ 3\n",
    "\n",
    "mean(666) ➞ 6\n",
    "\n",
    "Notes\n",
    "\n",
    "•\tThe mean of all digits is the sum of digits / how many digits there are (e.g. mean of digits in 512 is (5+1+2)/3(number of digits) = 8/3=2).\n",
    "\n",
    "•\tThe mean will always be an integer.\n",
    "\n"
   ]
  },
  {
   "cell_type": "code",
   "execution_count": 3,
   "id": "f12c7c65",
   "metadata": {},
   "outputs": [],
   "source": [
    "def mean(str1):\n",
    "    list1 = [int(x) for x in str1]\n",
    "    mean = sum(list1)/len(list1)\n",
    "    return round(mean)"
   ]
  },
  {
   "cell_type": "code",
   "execution_count": 4,
   "id": "07a75a3d",
   "metadata": {},
   "outputs": [
    {
     "name": "stdout",
     "output_type": "stream",
     "text": [
      "enter your number:77799\n",
      "8\n"
     ]
    }
   ],
   "source": [
    "str1 = input(\"enter your number:\")\n",
    "print(mean(str1))"
   ]
  }
 ],
 "metadata": {
  "kernelspec": {
   "display_name": "Python 3",
   "language": "python",
   "name": "python3"
  },
  "language_info": {
   "codemirror_mode": {
    "name": "ipython",
    "version": 3
   },
   "file_extension": ".py",
   "mimetype": "text/x-python",
   "name": "python",
   "nbconvert_exporter": "python",
   "pygments_lexer": "ipython3",
   "version": "3.8.8"
  }
 },
 "nbformat": 4,
 "nbformat_minor": 5
}
