{
 "cells": [
  {
   "cell_type": "markdown",
   "id": "3bf62232",
   "metadata": {},
   "source": [
    "### 1.\tWrite a Python Program to Add Two Matrices?"
   ]
  },
  {
   "cell_type": "code",
   "execution_count": 14,
   "id": "6995d211",
   "metadata": {},
   "outputs": [
    {
     "name": "stdout",
     "output_type": "stream",
     "text": [
      "enter the length of your matrices: 2\n",
      "enter the breadth of your matrices: 3\n",
      "enter matrice 1 : one by one \n",
      "\n",
      "enter the matrices properly\n"
     ]
    }
   ],
   "source": [
    "try:\n",
    "    l = int(input(\"enter the coloumn length of your matrices: \"))\n",
    "    b = int(input(\"enter the row length of your matrices: \"))\n",
    "    print(\"enter matrice 1 : one by one \")\n",
    "    m1=[[int(input()) for x in range(l)] for y in range(b)]\n",
    "    print(m1)\n",
    "    print(\"enter matrice 2 : one by one \")\n",
    "    m2=[[int(input()) for x in range(l)] for y in range(b)]\n",
    "    print(m2)\n",
    "\n",
    "    merged_list1 = []\n",
    "    for i in range(b):\n",
    "        merged_list = []\n",
    "        for j in range(l):\n",
    "            merged_list.append(m1[i][j]+m2[i][j])\n",
    "        print('merged_list',merged_list)\n",
    "        merged_list1.append(merged_list)\n",
    "\n",
    "    final_matrix = merged_list1\n",
    "    print('final_matrix :',final_matrix)\n",
    "except:\n",
    "    print(\"!!! enter the matrices properly !!!\")"
   ]
  },
  {
   "cell_type": "markdown",
   "id": "ab031a87",
   "metadata": {},
   "source": [
    "### 2.\tWrite a Python Program to Multiply Two Matrices?"
   ]
  },
  {
   "cell_type": "code",
   "execution_count": 3,
   "id": "8ad2b150",
   "metadata": {},
   "outputs": [],
   "source": [
    "def mat_print(m):\n",
    "    for i in m:\n",
    "        print(*i)"
   ]
  },
  {
   "cell_type": "code",
   "execution_count": 6,
   "id": "97e5fd61",
   "metadata": {},
   "outputs": [
    {
     "name": "stdout",
     "output_type": "stream",
     "text": [
      "Enter Row & Column of First and Secon Matrix Sequantially Separeted by Space:\n",
      "2 3 3 2\n",
      "Enter Element Row Wise Separeted by Space For First Matrix\n",
      "1 2 3\n",
      "Enter Element Row Wise Separeted by Space For First Matrix\n",
      "2 3 4\n",
      "Enter Element Row Wise Separeted by Space For Second Matrix\n",
      "1 2\n",
      "Enter Element Row Wise Separeted by Space For Second Matrix\n",
      "2 1\n",
      "Enter Element Row Wise Separeted by Space For Second Matrix\n",
      "2 4\n",
      "\n",
      "First Matrix:\n",
      "1 2 3\n",
      "2 3 4\n",
      "\n",
      "Second Matrix:\n",
      "1 2\n",
      "2 1\n",
      "2 4\n",
      "\n",
      "Multiplicated Matrix:\n",
      "11 16\n",
      "16 23\n"
     ]
    }
   ],
   "source": [
    "r1,c1,r2,c2 = tuple(map(int,input(\"Enter Row & Column of First and Secon Matrix Sequantially Separeted by Space:\\n\").split()))\n",
    "m1,m2 = [],[]\n",
    "if c1 == r2:\n",
    "    #Input Matrices:\n",
    "    for i in range(r1):\n",
    "        m1.append(list(map(int,input(\"Enter Element Row Wise Separeted by Space For First Matrix\\n\").split())))\n",
    "    for i in range(r2):\n",
    "        m2.append(list(map(int,input(\"Enter Element Row Wise Separeted by Space For Second Matrix\\n\").split())))\n",
    "    print(\"\\nFirst Matrix:\")\n",
    "    mat_print(m1)\n",
    "    print(\"\\nSecond Matrix:\")\n",
    "    mat_print(m2)\n",
    "    \n",
    "    #Output Matrix\n",
    "    m3 = [[0 for x in range(c2)] for y in range(r1)]\n",
    "    for i in range(r1):\n",
    "        for j in range(c2):\n",
    "            for k in range(r2):\n",
    "                m3[i][j] += m1[i][k] * m2[k][j]\n",
    "    print(\"\\nMultiplicated Matrix:\")\n",
    "    mat_print(m3)"
   ]
  },
  {
   "cell_type": "markdown",
   "id": "a4970df1",
   "metadata": {},
   "source": [
    "### 3.\tWrite a Python Program to Transpose a Matrix?"
   ]
  },
  {
   "cell_type": "code",
   "execution_count": 4,
   "id": "da77eaaa",
   "metadata": {},
   "outputs": [
    {
     "name": "stdout",
     "output_type": "stream",
     "text": [
      "Enter Row & Column of The Matrix Separeted by Space:\n",
      "2 3\n",
      "Enter Element Row Wise Separeted by Space for The Matrix\n",
      "1 2 3\n",
      "Enter Element Row Wise Separeted by Space for The Matrix\n",
      "2 1 3\n",
      "\n",
      "Provided Matrix:\n",
      "1 2 3\n",
      "2 1 3\n",
      "\n",
      "Transposed Matrix:\n",
      "1 2\n",
      "2 1\n",
      "3 3\n"
     ]
    }
   ],
   "source": [
    "r1,c1 = tuple(map(int,input(\"Enter Row & Column of The Matrix Separeted by Space:\\n\").split()))\n",
    "m1,m2 = [],[]\n",
    "#Input Matrices:\n",
    "for i in range(r1):\n",
    "    m1.append(list(map(int,input(\"Enter Element Row Wise Separeted by Space for The Matrix\\n\").split())))\n",
    "print(\"\\nProvided Matrix:\")\n",
    "mat_print(m1)\n",
    "#Output Matrix\n",
    "for i in range(c1):\n",
    "    temp = []\n",
    "    for j in m1:\n",
    "        temp.append(j[i])\n",
    "    m2.append(temp)\n",
    "print(\"\\nTransposed Matrix:\")\n",
    "mat_print(m2)"
   ]
  },
  {
   "cell_type": "markdown",
   "id": "7389c969",
   "metadata": {},
   "source": [
    "### 4.\tWrite a Python Program to Sort Words in Alphabetic Order?"
   ]
  },
  {
   "cell_type": "code",
   "execution_count": 31,
   "id": "df01471a",
   "metadata": {},
   "outputs": [
    {
     "name": "stdout",
     "output_type": "stream",
     "text": [
      "enter your words separated by space: df\n",
      "\n",
      "your ordered list \n",
      " df\n"
     ]
    }
   ],
   "source": [
    "list1 = list(input('enter your words separated by space: ').split())\n",
    "list1.sort()\n",
    "for i in list1:\n",
    "    print(\"\\nyour ordered list \\n\",i)\n"
   ]
  },
  {
   "cell_type": "markdown",
   "id": "ae53af60",
   "metadata": {},
   "source": [
    "### 5.\tWrite a Python Program to Remove Punctuation From a String?"
   ]
  },
  {
   "cell_type": "code",
   "execution_count": 29,
   "id": "be58dfea",
   "metadata": {},
   "outputs": [
    {
     "name": "stdout",
     "output_type": "stream",
     "text": [
      "enter your string: fsdf,.s.fdf.,.f sdfds,f .\n",
      "final str =  fsdfsfdffsdfdsf\n"
     ]
    }
   ],
   "source": [
    "list1 = list(input(\"enter your string: \"))\n",
    "list2 = []\n",
    "desire_list = list(range(48,58)) + list(range(65,91)) + list(range(97,123))\n",
    "for i in list1:\n",
    "    if ord(i) in punc_list:\n",
    "        list2.append(i)\n",
    "print('final str = ',\"\".join(list2))"
   ]
  },
  {
   "cell_type": "code",
   "execution_count": null,
   "id": "da052387",
   "metadata": {},
   "outputs": [],
   "source": []
  }
 ],
 "metadata": {
  "kernelspec": {
   "display_name": "Python 3",
   "language": "python",
   "name": "python3"
  },
  "language_info": {
   "codemirror_mode": {
    "name": "ipython",
    "version": 3
   },
   "file_extension": ".py",
   "mimetype": "text/x-python",
   "name": "python",
   "nbconvert_exporter": "python",
   "pygments_lexer": "ipython3",
   "version": "3.8.8"
  }
 },
 "nbformat": 4,
 "nbformat_minor": 5
}
