{
 "cells": [
  {
   "cell_type": "markdown",
   "id": "95f91052",
   "metadata": {},
   "source": [
    "### Question1. \n",
    "Create a function that takes three arguments a, b, c and returns the sum of the numbers that are evenly divided by c from the range a, b inclusive.\n",
    "\n",
    "Examples\n",
    "\n",
    "evenly_divisible(1, 10, 20) ➞ 0\n",
    "\n",
    "# No number between 1 and 10 can be evenly divided by 20.\n",
    "\n",
    "evenly_divisible(1, 10, 2) ➞ 30\n",
    "\n",
    "# 2 + 4 + 6 + 8 + 10 = 30\n",
    "\n",
    "evenly_divisible(1, 10, 3) ➞ 18\n",
    "\n",
    "# 3 + 6 + 9 = 18\n"
   ]
  },
  {
   "cell_type": "code",
   "execution_count": 2,
   "id": "1946264b",
   "metadata": {},
   "outputs": [],
   "source": [
    "def evenly_divisible(a,b,c):\n",
    "    list1 = [i for i in range(a,b+1) if i%c == 0]\n",
    "    return sum(list1)"
   ]
  },
  {
   "cell_type": "code",
   "execution_count": 5,
   "id": "f3f1c803",
   "metadata": {},
   "outputs": [
    {
     "name": "stdout",
     "output_type": "stream",
     "text": [
      "enter three parameters: 1, 10, 3\n",
      "18\n"
     ]
    }
   ],
   "source": [
    "a,b,c = tuple(map(int,input(\"enter three parameters: \").split(\", \")))\n",
    "print(evenly_divisible(a,b,c))"
   ]
  },
  {
   "cell_type": "markdown",
   "id": "04d81a95",
   "metadata": {},
   "source": [
    "### Question2. \n",
    "Create a function that returns True if a given inequality expression is correct and False otherwise.\n",
    "\n",
    "Examples\n",
    "\n",
    "correct_signs(\"3 < 7 < 11\") ➞ True\n",
    "\n",
    "correct_signs(\"13 > 44 > 33 > 1\") ➞ False\n",
    "\n",
    "correct_signs(\"1 < 2 < 6 < 9 > 3\") ➞ True\n"
   ]
  },
  {
   "cell_type": "code",
   "execution_count": 8,
   "id": "4a7652bb",
   "metadata": {},
   "outputs": [],
   "source": [
    "def correct_signs(listx):\n",
    "    list1 = []\n",
    "    for i in listx:\n",
    "        try:    \n",
    "            list1.append(int(i))\n",
    "          \n",
    "        except:\n",
    "            list1.append(i)\n",
    "    \n",
    "    for i in range(0,len(list1)-2,2):\n",
    "        if list1[i+1] == '<' or list1[i+1] == '<=':\n",
    "            if list1[i] > list1[i+2]:\n",
    "                return False\n",
    "                \n",
    "        elif list1[i+1] == '>' or list1[i+1] == '>=':\n",
    "            if list1[i] < list1[i+2]:\n",
    "                return False\n",
    "        \n",
    "        elif list1[i+1] == '=':\n",
    "            if list1[i] != list1[i+2]:\n",
    "                return False\n",
    "            \n",
    "        elif list1[i+1] == '!=':\n",
    "            if list1[i] == list1[i+2]:\n",
    "                return False\n",
    "                        \n",
    "    return True "
   ]
  },
  {
   "cell_type": "code",
   "execution_count": 9,
   "id": "da810ea0",
   "metadata": {},
   "outputs": [
    {
     "name": "stdout",
     "output_type": "stream",
     "text": [
      "enter your list : 1 < 2 < 6 < 9 > 3 <= 1\n",
      "\n",
      " False\n"
     ]
    }
   ],
   "source": [
    "list1 = input(\"enter your list : \").split()\n",
    "print('\\n', correct_signs(list1))"
   ]
  },
  {
   "cell_type": "markdown",
   "id": "67636385",
   "metadata": {},
   "source": [
    "### Question3. \n",
    "Create a function that replaces all the vowels in a string with a specified character.\n",
    "\n",
    "Examples\n",
    "\n",
    "replace_vowels(\"the aardvark\", \"#\") ➞ \"th# ##rdv#rk\"\n",
    "\n",
    "replace_vowels(\"minnie mouse\", \"?\") ➞ \"m?nn?? m??s?\"\n",
    "\n",
    "replace_vowels(\"shakespeare\", \"*\") ➞ \"sh*k*sp**r*\"\n"
   ]
  },
  {
   "cell_type": "code",
   "execution_count": 14,
   "id": "f3ebdb3b",
   "metadata": {},
   "outputs": [],
   "source": [
    "def replace_vowels(list1,char):\n",
    "    list1 = [char if x.lower() in ['a','e','i','o','u'] else x for x in list1]\n",
    "    return ''.join(list1)\n",
    "    "
   ]
  },
  {
   "cell_type": "code",
   "execution_count": 15,
   "id": "78d04d8b",
   "metadata": {
    "scrolled": true
   },
   "outputs": [
    {
     "name": "stdout",
     "output_type": "stream",
     "text": [
      "enter your string: priyankar\n",
      "enter your replacment for vowels: *\n",
      "\n",
      " your new string is \n",
      " pr*y*nk*r\n"
     ]
    }
   ],
   "source": [
    "list1 = list(input(\"enter your string: \"))\n",
    "char = input('enter your replacment for vowels: ')\n",
    "print('\\n your new string is \\n',replace_vowels(list1,char))"
   ]
  },
  {
   "cell_type": "markdown",
   "id": "6d6b2529",
   "metadata": {},
   "source": [
    "### Question4.\n",
    "Write a function that calculates the factorial of a number recursively.\n",
    "\n",
    "Examples\n",
    "\n",
    "factorial(5) ➞ 120\n",
    "\n",
    "factorial(3) ➞ 6\n",
    "\n",
    "factorial(1) ➞ 1\n",
    "\n",
    "factorial(0) ➞ 1\n"
   ]
  },
  {
   "cell_type": "code",
   "execution_count": 8,
   "id": "7c847726",
   "metadata": {},
   "outputs": [],
   "source": [
    "def factorial(n):\n",
    "    if n == 1:\n",
    "        return n\n",
    "    else:\n",
    "        return n * factorial(n-1)"
   ]
  },
  {
   "cell_type": "code",
   "execution_count": 13,
   "id": "fadc9e62",
   "metadata": {},
   "outputs": [
    {
     "name": "stdout",
     "output_type": "stream",
     "text": [
      "enter the number: 10\n",
      "factorial =  3628800\n"
     ]
    }
   ],
   "source": [
    "n = int(input(\"enter the number: \"))\n",
    "print(\"factorial = \",factorial(n))"
   ]
  },
  {
   "cell_type": "markdown",
   "id": "306c566c",
   "metadata": {},
   "source": [
    "### Question 5\n",
    "\n",
    "Hamming distance is the number of characters that differ between two strings.\n",
    "\n",
    "To illustrate:\n",
    "\n",
    "String1: \"abcbba\"\n",
    "\n",
    "String2: \"abcbda\"\n",
    "\n",
    "Hamming Distance: 1 - \"b\" vs. \"d\" is the only difference.\n",
    "\n",
    "Create a function that computes the hamming distance between two strings.\n",
    "\n",
    "Examples\n",
    "\n",
    "hamming_distance(\"abcde\", \"bcdef\") ➞ 5\n",
    "\n",
    "hamming_distance(\"abcde\", \"abcde\") ➞ 0\n",
    "\n",
    "hamming_distance(\"strong\", \"strung\") ➞ 1\n"
   ]
  },
  {
   "cell_type": "code",
   "execution_count": 29,
   "id": "8608bebb",
   "metadata": {},
   "outputs": [],
   "source": [
    "def hamming_distance(str1,str2):\n",
    "    ham_dis = 0\n",
    "    if len(str1) == len(str2):\n",
    "        for i in range(len(str1)):\n",
    "            if str1[i] != str2[i]:\n",
    "                ham_dis += 1 \n",
    "                \n",
    "    elif len(str1) > len(str2):\n",
    "        for i in range(len(str2)):\n",
    "            if str1[i] != str2[i]:\n",
    "                ham_dis += 1 \n",
    "        ham_dis += (len(str1) - len(str2))\n",
    "            \n",
    "    elif len(str1) < len(str2):\n",
    "        for i in range(len(str1)):\n",
    "            if str1[i] != str2[i]:\n",
    "                ham_dis += 1\n",
    "        ham_dis += (len(str2) - len(str1))\n",
    "            \n",
    "    return ham_dis"
   ]
  },
  {
   "cell_type": "code",
   "execution_count": 32,
   "id": "16dfc940",
   "metadata": {},
   "outputs": [
    {
     "name": "stdout",
     "output_type": "stream",
     "text": [
      "enter first string: asdfsaf\n",
      "enter second string: asdxd\n",
      "hamming distance =  4\n"
     ]
    }
   ],
   "source": [
    "str1 = input('enter first string: ')\n",
    "str2 = input('enter second string: ')\n",
    "print('hamming distance = ',hamming_distance(str1,str2))"
   ]
  }
 ],
 "metadata": {
  "kernelspec": {
   "display_name": "Python 3",
   "language": "python",
   "name": "python3"
  },
  "language_info": {
   "codemirror_mode": {
    "name": "ipython",
    "version": 3
   },
   "file_extension": ".py",
   "mimetype": "text/x-python",
   "name": "python",
   "nbconvert_exporter": "python",
   "pygments_lexer": "ipython3",
   "version": "3.8.8"
  }
 },
 "nbformat": 4,
 "nbformat_minor": 5
}
