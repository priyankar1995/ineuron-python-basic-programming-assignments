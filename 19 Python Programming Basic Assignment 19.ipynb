{
 "cells": [
  {
   "cell_type": "markdown",
   "id": "36d3b28f",
   "metadata": {},
   "source": [
    "### Question1\n",
    "Create a function that takes a string and returns a string in which each character is repeated once.\n",
    "\n",
    "Examples\n",
    "\n",
    "double_char(\"String\") ➞ \"SSttrriinngg\"\n",
    "\n",
    "double_char(\"Hello World!\") ➞ \"HHeelllloo  WWoorrlldd!!\"\n",
    "\n",
    "double_char(\"1234!_ \") ➞ \"11223344!!__  \"\n"
   ]
  },
  {
   "cell_type": "code",
   "execution_count": 12,
   "id": "f3da00a7",
   "metadata": {},
   "outputs": [],
   "source": [
    "def double_char(str1):\n",
    "    str2 = ''\n",
    "    for i in str1:\n",
    "        str2 += i*2\n",
    "    return str2"
   ]
  },
  {
   "cell_type": "code",
   "execution_count": 13,
   "id": "221ebf6a",
   "metadata": {
    "scrolled": true
   },
   "outputs": [
    {
     "name": "stdout",
     "output_type": "stream",
     "text": [
      "enter your string: Hello World!\n",
      "HHeelllloo  WWoorrlldd!!\n"
     ]
    }
   ],
   "source": [
    "str1 = input(\"enter your string: \")\n",
    "print(double_char(str1))"
   ]
  },
  {
   "cell_type": "markdown",
   "id": "b2400c76",
   "metadata": {},
   "source": [
    "### Question2\n",
    "Create a function that reverses a boolean value and returns the string \"boolean expected\" if another variable type is given.\n",
    "\n",
    "Examples\n",
    "\n",
    "reverse(True) ➞ False\n",
    "\n",
    "reverse(False) ➞ True\n",
    "\n",
    "reverse(0) ➞ \"boolean expected\"\n",
    "\n",
    "reverse(None) ➞ \"boolean expected\"\n"
   ]
  },
  {
   "cell_type": "code",
   "execution_count": 31,
   "id": "942a415f",
   "metadata": {},
   "outputs": [],
   "source": [
    "def reverse(x):\n",
    "    if x != \"True\" and x != \"False\" :\n",
    "        return \"boolean expected\"\n",
    "    else:\n",
    "        if x == 'True':\n",
    "            return False\n",
    "        elif x == 'False':\n",
    "            return True"
   ]
  },
  {
   "cell_type": "code",
   "execution_count": 36,
   "id": "49e63849",
   "metadata": {},
   "outputs": [
    {
     "name": "stdout",
     "output_type": "stream",
     "text": [
      "True\n",
      "\n",
      " False\n"
     ]
    }
   ],
   "source": [
    "value = input()\n",
    "print('\\n',reverse(value))"
   ]
  },
  {
   "cell_type": "markdown",
   "id": "14b168c6",
   "metadata": {},
   "source": [
    "### Question3\n",
    "Create a function that returns the thickness (in meters) of a piece of paper after folding it n number of times. The paper starts off with a thickness of 0.5mm.\n",
    "\n",
    "Examples\n",
    "\n",
    "num_layers(1) ➞ \"0.001m\"\n",
    "# Paper folded once is 1mm (equal to 0.001m)\n",
    "\n",
    "num_layers(4) ➞ \"0.008m\"\n",
    "# Paper folded 4 times is 8mm (equal to 0.008m)\n",
    "\n",
    "num_layers(21) ➞ \"1048.576m\"\n",
    "# Paper folded 21 times is 1048576mm (equal to 1048.576m)\n"
   ]
  },
  {
   "cell_type": "code",
   "execution_count": 10,
   "id": "26b6cbfb",
   "metadata": {},
   "outputs": [],
   "source": [
    "def num_layers(fold_num):\n",
    "    length = (0.5*(2**fold_num))\n",
    "    return length/1000\n"
   ]
  },
  {
   "cell_type": "code",
   "execution_count": 15,
   "id": "03fd45f0",
   "metadata": {},
   "outputs": [
    {
     "name": "stdout",
     "output_type": "stream",
     "text": [
      "enter the number of folds: 20\n",
      "524.288 mtr\n"
     ]
    }
   ],
   "source": [
    "fold_num = int(input(\"enter the number of folds: \"))\n",
    "print(num_layers(fold_num),\"mtr\")"
   ]
  },
  {
   "cell_type": "markdown",
   "id": "62160093",
   "metadata": {},
   "source": [
    "### Question4\n",
    "Create a function that takes a single string as argument and returns an ordered list containing the indices of all capital letters in the string.\n",
    "\n",
    "Examples\n",
    "\n",
    "index_of_caps(\"eDaBiT\") ➞ [1, 3, 5]\n",
    "\n",
    "index_of_caps(\"eQuINoX\") ➞ [1, 3, 4, 6]\n",
    "\n",
    "index_of_caps(\"determine\") ➞ []\n",
    "\n",
    "index_of_caps(\"STRIKE\") ➞ [0, 1, 2, 3, 4, 5]\n",
    "\n",
    "index_of_caps(\"sUn\") ➞ [1]\n"
   ]
  },
  {
   "cell_type": "code",
   "execution_count": 18,
   "id": "d9b06ff8",
   "metadata": {},
   "outputs": [],
   "source": [
    "def index_of_caps(str1):\n",
    "    list1 = []\n",
    "    for i,j in enumerate(str1):\n",
    "        if j.isupper() == True:\n",
    "            list1.append(i)\n",
    "    return list1"
   ]
  },
  {
   "cell_type": "code",
   "execution_count": 23,
   "id": "c630e83d",
   "metadata": {},
   "outputs": [
    {
     "name": "stdout",
     "output_type": "stream",
     "text": [
      "enter your text:sUn\n",
      "\n",
      "index list\n",
      " [1]\n"
     ]
    }
   ],
   "source": [
    "str1 = input(\"enter your text:\")\n",
    "print(\"\\nindex list\\n\", index_of_caps(str1))"
   ]
  },
  {
   "cell_type": "markdown",
   "id": "b7527149",
   "metadata": {},
   "source": [
    "### Question5\n",
    "Using list comprehensions, create a function that finds all even numbers from 1 to the given number.\n",
    "\n",
    "Examples\n",
    "\n",
    "find_even_nums(8) ➞ [2, 4, 6, 8]\n",
    "\n",
    "find_even_nums(4) ➞ [2, 4]\n",
    "\n",
    "find_even_nums(2) ➞ [2]\n"
   ]
  },
  {
   "cell_type": "code",
   "execution_count": 31,
   "id": "cdf4d350",
   "metadata": {},
   "outputs": [],
   "source": [
    "def find_even_nums(even_range):\n",
    "    list1 = [i for i in range(2,even_range+1) if i%2==0]\n",
    "    return list1"
   ]
  },
  {
   "cell_type": "code",
   "execution_count": 33,
   "id": "d3b5f17a",
   "metadata": {},
   "outputs": [
    {
     "name": "stdout",
     "output_type": "stream",
     "text": [
      "enter your upper range of even number: 16\n",
      "\n",
      " [2, 4, 6, 8, 10, 12, 14, 16]\n"
     ]
    }
   ],
   "source": [
    "even_range = int(input(\"enter your upper range of even number: \"))\n",
    "print('\\n',find_even_nums(even_range))"
   ]
  }
 ],
 "metadata": {
  "kernelspec": {
   "display_name": "Python 3",
   "language": "python",
   "name": "python3"
  },
  "language_info": {
   "codemirror_mode": {
    "name": "ipython",
    "version": 3
   },
   "file_extension": ".py",
   "mimetype": "text/x-python",
   "name": "python",
   "nbconvert_exporter": "python",
   "pygments_lexer": "ipython3",
   "version": "3.8.8"
  }
 },
 "nbformat": 4,
 "nbformat_minor": 5
}
