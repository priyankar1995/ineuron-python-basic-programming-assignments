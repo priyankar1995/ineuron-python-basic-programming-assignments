{
 "cells": [
  {
   "cell_type": "markdown",
   "id": "76c0409c",
   "metadata": {},
   "source": [
    "###  1.\tWrite a Python program to print \"Hello Python\"?"
   ]
  },
  {
   "cell_type": "code",
   "execution_count": 3,
   "id": "015817ed",
   "metadata": {},
   "outputs": [
    {
     "name": "stdout",
     "output_type": "stream",
     "text": [
      "Hello Python\n"
     ]
    }
   ],
   "source": [
    "print(\"Hello Python\")"
   ]
  },
  {
   "cell_type": "markdown",
   "id": "e9326cd4",
   "metadata": {},
   "source": [
    "### 2.\tWrite a Python program to do arithmetical operations addition and division.?"
   ]
  },
  {
   "cell_type": "code",
   "execution_count": 4,
   "id": "71b98564",
   "metadata": {},
   "outputs": [
    {
     "name": "stdout",
     "output_type": "stream",
     "text": [
      "enter the first number:6\n",
      "enter the second number:4\n",
      "the result of the addition =  10\n",
      "the result of the substraction =  2\n"
     ]
    }
   ],
   "source": [
    "a=int(input(\"enter the first number:\"))\n",
    "b=int(input(\"enter the second number:\"))\n",
    "print(\"the result of the addition = \",a+b)\n",
    "print(\"the result of the substraction = \",a-b)"
   ]
  },
  {
   "cell_type": "markdown",
   "id": "dfa44849",
   "metadata": {},
   "source": [
    "### 3.\tWrite a Python program to find the area of a triangle?"
   ]
  },
  {
   "cell_type": "code",
   "execution_count": 20,
   "id": "7aeb695a",
   "metadata": {},
   "outputs": [
    {
     "name": "stdout",
     "output_type": "stream",
     "text": [
      "enter the base: 4\n",
      "enter the height: 5\n",
      "the area of the triangle is =  10.0\n"
     ]
    }
   ],
   "source": [
    "# when base and height are known\n",
    "\n",
    "a=int(input(\"enter the base: \"))\n",
    "b=int(input(\"enter the height: \"))\n",
    "area= (a*b)/2\n",
    "print(\"the area of the triangle is = \", area)"
   ]
  },
  {
   "cell_type": "code",
   "execution_count": 21,
   "id": "632341ec",
   "metadata": {},
   "outputs": [
    {
     "name": "stdout",
     "output_type": "stream",
     "text": [
      "enter the length of the three sides of the triangle (separated with space) : 55 25 10\n",
      "area of the triangle is =  561.2486080160912\n"
     ]
    }
   ],
   "source": [
    "# when only length of the three sides are known\n",
    "\n",
    "a,b,c = tuple(map(int,input(\"enter the length of the three sides of the triangle (separated with space) : \").split()))\n",
    "\n",
    "#calculating semiperimeter\n",
    "s = (a+b+c)/2\n",
    "\n",
    "#applying scalene triangle area formula\n",
    "area = abs(s*(s-a)*(s-b)*(s-c))**0.5\n",
    "print(\"area of the triangle is = \",area)"
   ]
  },
  {
   "cell_type": "markdown",
   "id": "83b4219b",
   "metadata": {},
   "source": [
    "### 4.\tWrite a Python program to swap two variables?"
   ]
  },
  {
   "cell_type": "code",
   "execution_count": 30,
   "id": "67da4980",
   "metadata": {},
   "outputs": [
    {
     "name": "stdout",
     "output_type": "stream",
     "text": [
      "enter the value of variable1: 5\n",
      "enter the value of variable2: 6\n",
      "the new value of the variable1 = 6 \n",
      "the new value of the variable2 = 5\n"
     ]
    }
   ],
   "source": [
    "a = int(input(\"enter the value of variable1: \"))\n",
    "b = int(input(\"enter the value of variable2: \"))\n",
    "a,b = b,a\n",
    "print(\"the new value of the variable1 = {} \\nthe new value of the variable2 = {}\".format(a,b))\n"
   ]
  },
  {
   "cell_type": "markdown",
   "id": "7677e29b",
   "metadata": {},
   "source": [
    "### 5.\tWrite a Python program to generate a random number?"
   ]
  },
  {
   "cell_type": "code",
   "execution_count": 37,
   "id": "d1a00e3a",
   "metadata": {},
   "outputs": [
    {
     "name": "stdout",
     "output_type": "stream",
     "text": [
      "set your lower limit: 6\n",
      "set your upper limit: 8\n"
     ]
    },
    {
     "data": {
      "text/plain": [
       "7"
      ]
     },
     "execution_count": 37,
     "metadata": {},
     "output_type": "execute_result"
    }
   ],
   "source": [
    "# we have to import randint method from random module\n",
    "\n",
    "from random import randint\n",
    "a = int(input(\"set your lower limit: \"))\n",
    "b = int(input(\"set your upper limit: \"))\n",
    "randint(a,b)"
   ]
  }
 ],
 "metadata": {
  "kernelspec": {
   "display_name": "Python 3",
   "language": "python",
   "name": "python3"
  },
  "language_info": {
   "codemirror_mode": {
    "name": "ipython",
    "version": 3
   },
   "file_extension": ".py",
   "mimetype": "text/x-python",
   "name": "python",
   "nbconvert_exporter": "python",
   "pygments_lexer": "ipython3",
   "version": "3.8.8"
  }
 },
 "nbformat": 4,
 "nbformat_minor": 5
}
