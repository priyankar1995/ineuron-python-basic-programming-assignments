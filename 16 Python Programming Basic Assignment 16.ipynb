{
 "cells": [
  {
   "cell_type": "markdown",
   "id": "690cb774",
   "metadata": {},
   "source": [
    "### Question1. \n",
    "\n",
    "Write a function that stutters a word as if someone is struggling to read it. The first two letters are repeated twice with an ellipsis ... and space after each, and then the word is pronounced with a question mark ?.\n",
    "\n",
    "Examples\n",
    "\n",
    "stutter(\"incredible\") ➞ \"in... in... incredible?\"\n",
    "\n",
    "stutter(\"enthusiastic\") ➞ \"en... en... enthusiastic?\"\n",
    "\n",
    "stutter(\"outstanding\") ➞ \"ou... ou... outstanding?\"\n",
    "\n",
    "Hint :- Assume all input is in lower case and at least two characters long.\n"
   ]
  },
  {
   "cell_type": "code",
   "execution_count": 14,
   "id": "a9fc5def",
   "metadata": {},
   "outputs": [],
   "source": [
    "def stutter(str1):\n",
    "    str2 = ''\n",
    "    str2 += ((str1[0:2] + '... ')*2 + str1 + '?')\n",
    "    return str2"
   ]
  },
  {
   "cell_type": "code",
   "execution_count": 32,
   "id": "a3eb6317",
   "metadata": {},
   "outputs": [
    {
     "name": "stdout",
     "output_type": "stream",
     "text": [
      "enter your string: outstanding\n",
      "\n",
      " ou... ou... outstanding?\n"
     ]
    }
   ],
   "source": [
    "str1 = input('enter your string: ')\n",
    "print('\\n',stutter(str1))"
   ]
  },
  {
   "cell_type": "markdown",
   "id": "3668263d",
   "metadata": {},
   "source": [
    "### Question 2.\n",
    "Create a function that takes an angle in radians and returns the corresponding angle in degrees rounded to one decimal place.\n",
    "\n",
    "Examples\n",
    "\n",
    "radians_to_degrees(1) ➞ 57.3\n",
    "\n",
    "radians_to_degrees(20) ➞ 1145.9\n",
    "\n",
    "radians_to_degrees(50) ➞ 2864.8\n"
   ]
  },
  {
   "cell_type": "code",
   "execution_count": 28,
   "id": "0fae8db2",
   "metadata": {},
   "outputs": [],
   "source": [
    "from math import pi\n",
    "def radians_to_degrees(rad):\n",
    "    deg = (rad*180)/pi\n",
    "    return '{0:.1f}'.format(deg)\n",
    "    "
   ]
  },
  {
   "cell_type": "code",
   "execution_count": 31,
   "id": "c56fe22f",
   "metadata": {},
   "outputs": [
    {
     "name": "stdout",
     "output_type": "stream",
     "text": [
      "enter angle in radian: 50\n",
      "angle in degree =  2864.8\n"
     ]
    }
   ],
   "source": [
    "rad = int(input(\"enter angle in radian: \"))\n",
    "print('angle in degree = ',radians_to_degrees(rad))"
   ]
  },
  {
   "cell_type": "markdown",
   "id": "cbbbbf05",
   "metadata": {},
   "source": [
    "### Question 3. \n",
    "In this challenge, establish if a given integer num is a Curzon number. If 1 plus 2 elevated to num is exactly divisible by 1 plus 2 multiplied by num, then num is a Curzon number.\n",
    "Given a non-negative integer num, implement a function that returns True if num is a Curzon number, or False otherwise.\n",
    "\n",
    "Examples\n",
    "\n",
    "is_curzon(5) ➞ True\n",
    "# 2 ** 5 + 1 = 33\n",
    "# 2 * 5 + 1 = 11\n",
    "# 33 is a multiple of 11\n",
    "\n",
    "is_curzon(10) ➞ False\n",
    "# 2 ** 10 + 1 = 1025\n",
    "# 2 * 10 + 1 = 21\n",
    "# 1025 is not a multiple of 21\n",
    "\n",
    "is_curzon(14) ➞ True\n",
    "# 2 ** 14 + 1 = 16385\n",
    "# 2 * 14 + 1 = 29\n",
    "# 16385 is a multiple of 29\n"
   ]
  },
  {
   "cell_type": "code",
   "execution_count": 38,
   "id": "18c898b4",
   "metadata": {},
   "outputs": [],
   "source": [
    "def is_curzon(num):\n",
    "    if ((2**num)+1) % ((2*num)+1) == 0:\n",
    "        return True\n",
    "    else:\n",
    "        return False"
   ]
  },
  {
   "cell_type": "code",
   "execution_count": 40,
   "id": "e2dd0b52",
   "metadata": {},
   "outputs": [
    {
     "name": "stdout",
     "output_type": "stream",
     "text": [
      "enter your number: 5\n",
      "\n",
      " True\n"
     ]
    }
   ],
   "source": [
    "num = int(input('enter your number: '))\n",
    "print('\\n',is_curzon(num))"
   ]
  },
  {
   "cell_type": "markdown",
   "id": "23d55cf7",
   "metadata": {},
   "source": [
    "### Question 4.Given the side length x find the area of a hexagon.\n",
    " \n",
    "Examples\n",
    "\n",
    "area_of_hexagon(1) ➞ 2.6\n",
    "\n",
    "area_of_hexagon(2) ➞ 10.4\n",
    "\n",
    "area_of_hexagon(3) ➞ 23.4\n"
   ]
  },
  {
   "cell_type": "code",
   "execution_count": 45,
   "id": "f2202e66",
   "metadata": {},
   "outputs": [],
   "source": [
    "def area_of_hexagon(leng):\n",
    "    area = (3*(3**0.5)*(leng**2))/2\n",
    "    return '{0:.1f}'.format(area)"
   ]
  },
  {
   "cell_type": "code",
   "execution_count": 48,
   "id": "b6d492d2",
   "metadata": {},
   "outputs": [
    {
     "name": "stdout",
     "output_type": "stream",
     "text": [
      "enter side length of hexagon: 3\n",
      "23.4\n"
     ]
    }
   ],
   "source": [
    "leng = int(input('enter side length of hexagon: '))\n",
    "print(area_of_hexagon(leng))"
   ]
  },
  {
   "cell_type": "markdown",
   "id": "3542d041",
   "metadata": {},
   "source": [
    "### Question 5. \n",
    "Create a function that returns a base-2 (binary) representation of a base-10 (decimal) string number. To convert is simple: ((2) means base-2 and (10) means base-10) 010101001(2) = 1 + 8 + 32 + 128.\n",
    "\n",
    "Going from right to left, the value of the most right bit is 1, now from that every bit to the left will be x2 the value, value of an 8 bit binary numbers are (256, 128, 64, 32, 16, 8, 4, 2, 1).\n",
    "\n",
    "Examples\n",
    "\n",
    "binary(1) ➞ \"1\"\n",
    "# 1*1 = 1\n",
    "\n",
    "binary(5) ➞ \"101\"\n",
    "# 1*1 + 1*4 = 5\n",
    "\n",
    "binary(10) ➞ \"1010\"\n",
    "# 1*2 + 1*8 = 10\n",
    "\n"
   ]
  },
  {
   "cell_type": "code",
   "execution_count": 12,
   "id": "524fb009",
   "metadata": {},
   "outputs": [],
   "source": [
    "def binary(num):\n",
    "    rem = 0\n",
    "    str1 = ''\n",
    "    while num != 1 and num != 0:\n",
    "        rem = num % 2\n",
    "        num = num // 2\n",
    "        str1 += str(rem)\n",
    "        \n",
    "    return (str1 + str(num))[::-1] "
   ]
  },
  {
   "cell_type": "code",
   "execution_count": 13,
   "id": "034be481",
   "metadata": {},
   "outputs": [
    {
     "name": "stdout",
     "output_type": "stream",
     "text": [
      "14\n",
      "1110\n"
     ]
    }
   ],
   "source": [
    "num = int(input())\n",
    "print(binary(num))"
   ]
  }
 ],
 "metadata": {
  "kernelspec": {
   "display_name": "Python 3",
   "language": "python",
   "name": "python3"
  },
  "language_info": {
   "codemirror_mode": {
    "name": "ipython",
    "version": 3
   },
   "file_extension": ".py",
   "mimetype": "text/x-python",
   "name": "python",
   "nbconvert_exporter": "python",
   "pygments_lexer": "ipython3",
   "version": "3.8.8"
  }
 },
 "nbformat": 4,
 "nbformat_minor": 5
}
