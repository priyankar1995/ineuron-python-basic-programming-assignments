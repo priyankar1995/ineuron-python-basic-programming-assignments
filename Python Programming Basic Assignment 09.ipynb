{
 "cells": [
  {
   "cell_type": "markdown",
   "id": "ba7da207",
   "metadata": {},
   "source": [
    "### 1.\tWrite a Python program to check if the given number is a Disarium Number?"
   ]
  },
  {
   "cell_type": "code",
   "execution_count": 13,
   "id": "9758ddff",
   "metadata": {},
   "outputs": [],
   "source": [
    "def disarium_number(x):\n",
    "    list1 = list(map(int,x))\n",
    "    list2 = []\n",
    "    for i in range(1,len(x)+1):\n",
    "        list2.append(list1[0]**i)\n",
    "        list1.pop(0)\n",
    "    if sum(list2) == int(x):\n",
    "        return 1\n",
    "    else:\n",
    "        return 0"
   ]
  },
  {
   "cell_type": "code",
   "execution_count": 2,
   "id": "98d63c0f",
   "metadata": {},
   "outputs": [
    {
     "name": "stdout",
     "output_type": "stream",
     "text": [
      "enter your number: 2\n",
      "\n",
      "it is a disarium number\n",
      "\n"
     ]
    }
   ],
   "source": [
    "n =input(\"enter your number: \")\n",
    "if int(n) > 0:\n",
    "    if disarium_number(n) == 1:\n",
    "        print('\\nit is a disarium number\\n')\n",
    "    else :\n",
    "        print('\\nit is not a desarium number\\n')\n",
    "else:\n",
    "    print(\"enter a number greater than 0\")"
   ]
  },
  {
   "cell_type": "markdown",
   "id": "2971f489",
   "metadata": {},
   "source": [
    "### 2.\tWrite a Python program to print all disarium numbers between 1 to 100?"
   ]
  },
  {
   "cell_type": "code",
   "execution_count": 15,
   "id": "8659a192",
   "metadata": {},
   "outputs": [],
   "source": [
    "def disarium_number(x):\n",
    "    list1 = list(map(int,x))\n",
    "    list2 = []\n",
    "    for i in range(1,len(x)+1):\n",
    "        list2.append(list1[0]**i)\n",
    "        list1.pop(0)\n",
    "    if sum(list2) == int(x):\n",
    "        return 1\n",
    "    else:\n",
    "        return 0"
   ]
  },
  {
   "cell_type": "code",
   "execution_count": 16,
   "id": "22aed828",
   "metadata": {},
   "outputs": [
    {
     "name": "stdout",
     "output_type": "stream",
     "text": [
      "disarium numbers between 1 to 100 :  1 2 3 4 5 6 7 8 9 89\n"
     ]
    }
   ],
   "source": [
    "listy = []\n",
    "for i in range(1,101):\n",
    "    if disarium_number(str(i)) == 1:\n",
    "        listy.append(i)\n",
    "print('disarium numbers between 1 to 100 : ',*listy)"
   ]
  },
  {
   "cell_type": "markdown",
   "id": "8f4513d8",
   "metadata": {},
   "source": [
    "### 3.\tWrite a Python program to check if the given number is Happy Number?"
   ]
  },
  {
   "cell_type": "code",
   "execution_count": 2,
   "id": "9e6f1589",
   "metadata": {},
   "outputs": [],
   "source": [
    "def happy_number(x):\n",
    "    final = x\n",
    "    while final != 4 and final != 1:\n",
    "        list1 = str(final)\n",
    "        list1 = list(map(int,list1))\n",
    "        list1 = [i**2 for i in list1]\n",
    "        final = sum(list1)\n",
    "    if final == 1:\n",
    "        return 1\n",
    "    else:\n",
    "        return 0"
   ]
  },
  {
   "cell_type": "code",
   "execution_count": 3,
   "id": "e61e4a9d",
   "metadata": {
    "scrolled": false
   },
   "outputs": [
    {
     "name": "stdout",
     "output_type": "stream",
     "text": [
      "enter your number: 13\n",
      "\n",
      "it is a happy number\n",
      "\n"
     ]
    }
   ],
   "source": [
    "n = input(\"enter your number: \")\n",
    "if happy_number(n) == 1:\n",
    "    print(\"\\nit is a happy number\\n\")\n",
    "else:\n",
    "    print(\"\\nit is not a happy number\\n\")"
   ]
  },
  {
   "cell_type": "markdown",
   "id": "5592990a",
   "metadata": {},
   "source": [
    "### 4.\tWrite a Python program to print all happy numbers between 1 and 100?"
   ]
  },
  {
   "cell_type": "code",
   "execution_count": 13,
   "id": "74db8f0b",
   "metadata": {},
   "outputs": [],
   "source": [
    "def happy_number(x):\n",
    "    final = x\n",
    "    while final != 4 and final != 1:\n",
    "        list1 = str(final)\n",
    "        list1 = list(map(int,list1))\n",
    "        list1 = [i**2 for i in list1]\n",
    "        final = sum(list1)\n",
    "    if final == 1:\n",
    "        return 1\n",
    "    else:\n",
    "        return 0"
   ]
  },
  {
   "cell_type": "code",
   "execution_count": 17,
   "id": "b68dc009",
   "metadata": {},
   "outputs": [
    {
     "name": "stdout",
     "output_type": "stream",
     "text": [
      "happy numbers between 1 and 100 :  1 7 10 13 19 23 28 31 32 44 49 68 70 79 82 86 91 94 97 100\n"
     ]
    }
   ],
   "source": [
    "listx = []\n",
    "for i in range(1,101):\n",
    "    if happy_number(str(i)) == 1:\n",
    "        listx.append(i)\n",
    "print('happy numbers between 1 and 100 : ',*listx)\n"
   ]
  },
  {
   "cell_type": "markdown",
   "id": "aa041b5d",
   "metadata": {},
   "source": [
    "### 5.\tWrite a Python program to determine whether the given number is a Harshad Number?"
   ]
  },
  {
   "cell_type": "code",
   "execution_count": 1,
   "id": "c19bbda2",
   "metadata": {},
   "outputs": [],
   "source": [
    "def harshad_number(x):\n",
    "    final = x\n",
    "    while final != 1:\n",
    "        list1 = str(final)\n",
    "        list1 = list(map(int,list1))\n",
    "        rem = int(final) % sum(list1)\n",
    "        final = int(final)// sum(list1)\n",
    "        if rem != 0:\n",
    "            break\n",
    "    if final == 1:\n",
    "        return 1\n",
    "    else:\n",
    "        return 0"
   ]
  },
  {
   "cell_type": "code",
   "execution_count": 9,
   "id": "732f5109",
   "metadata": {},
   "outputs": [
    {
     "name": "stdout",
     "output_type": "stream",
     "text": [
      "enter your number: 13\n",
      "\n",
      "it is not a harshad number\n",
      "\n"
     ]
    }
   ],
   "source": [
    "n = input(\"enter your number: \")\n",
    "if harshad_number(n) == 1:\n",
    "    print(\"\\nit is a harshad number\\n\")\n",
    "else:\n",
    "    print(\"\\nit is not a harshad number\\n\")\n"
   ]
  },
  {
   "cell_type": "markdown",
   "id": "1236d046",
   "metadata": {},
   "source": [
    "### 6.\tWrite a Python program to print all pronic numbers between 1 and 100?"
   ]
  },
  {
   "cell_type": "code",
   "execution_count": 10,
   "id": "a198d394",
   "metadata": {},
   "outputs": [],
   "source": [
    "def pronic(num1):\n",
    "    temp = list(range(2,int(num1**0.5)+2))\n",
    "    for i,j in enumerate(temp,1):\n",
    "        if i*j == num1:\n",
    "            return 1\n",
    "    return 0"
   ]
  },
  {
   "cell_type": "code",
   "execution_count": 17,
   "id": "cd48bb76",
   "metadata": {},
   "outputs": [
    {
     "name": "stdout",
     "output_type": "stream",
     "text": [
      "Pronic Numbers between 1 and 100:  2 6 12 20 30 42 56 72 90\n"
     ]
    }
   ],
   "source": [
    "#Generating a list of 1 to 100\n",
    "temp_list = []\n",
    "for i in range(1,101):\n",
    "    if pronic(i) == 1:\n",
    "        temp_list.append(i)\n",
    "print(\"Pronic Numbers between 1 and 100: \",*temp_list)"
   ]
  }
 ],
 "metadata": {
  "kernelspec": {
   "display_name": "Python 3",
   "language": "python",
   "name": "python3"
  },
  "language_info": {
   "codemirror_mode": {
    "name": "ipython",
    "version": 3
   },
   "file_extension": ".py",
   "mimetype": "text/x-python",
   "name": "python",
   "nbconvert_exporter": "python",
   "pygments_lexer": "ipython3",
   "version": "3.8.8"
  }
 },
 "nbformat": 4,
 "nbformat_minor": 5
}
