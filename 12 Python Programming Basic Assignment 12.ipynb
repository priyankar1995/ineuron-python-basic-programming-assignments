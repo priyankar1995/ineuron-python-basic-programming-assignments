{
 "cells": [
  {
   "cell_type": "markdown",
   "id": "4ff0e394",
   "metadata": {},
   "source": [
    "### 1.\tWrite a Python program to Extract Unique values dictionary values?"
   ]
  },
  {
   "cell_type": "code",
   "execution_count": 5,
   "id": "44f825d3",
   "metadata": {},
   "outputs": [
    {
     "name": "stdout",
     "output_type": "stream",
     "text": [
      "how many key value pairs do you have? 4\n",
      "enter key = 1\n",
      "enter corresponding value = dfwe\n",
      "enter key = 2\n",
      "enter corresponding value = fdsgtg\n",
      "enter key = 3\n",
      "enter corresponding value = fh\n",
      "enter key = 4\n",
      "enter corresponding value = fh\n",
      "your unique values are :  fh fdsgtg dfwe\n"
     ]
    }
   ],
   "source": [
    "n = int(input('how many key value pairs do you have? '))\n",
    "dict1 = {}\n",
    "for i in range(n):\n",
    "    p = input(\"enter key = \")\n",
    "    dict1[p] = input(\"enter corresponding value = \")\n",
    "list1 = []\n",
    "for i in dict1.values():\n",
    "    list1.append(i)\n",
    "print(\"your unique values are : \",*list(set(list1)))"
   ]
  },
  {
   "cell_type": "markdown",
   "id": "c59d5f80",
   "metadata": {},
   "source": [
    "### 2.\tWrite a Python program to find the sum of all items in a dictionary?"
   ]
  },
  {
   "cell_type": "code",
   "execution_count": 10,
   "id": "ba17f3b0",
   "metadata": {},
   "outputs": [
    {
     "name": "stdout",
     "output_type": "stream",
     "text": [
      "how many key value pairs do you have? 3\n",
      "enter key = 1\n",
      "enter corresponding value (either integer or float) = 234\n",
      "enter key = 2\n",
      "enter corresponding value (either integer or float) = 435\n",
      "enter key = 3\n",
      "enter corresponding value (either integer or float) = 412\n",
      "\n",
      "sum of all items =  1081.0\n"
     ]
    }
   ],
   "source": [
    "try:\n",
    "    n = int(input('how many key value pairs do you have? '))\n",
    "    dict1 = {}\n",
    "    for i in range(n):\n",
    "        p = input(\"enter key = \")\n",
    "        dict1[p] = float(input(\"enter corresponding value (either integer or float) = \"))\n",
    "\n",
    "    print('\\nsum of all items = ', sum(dict1.values()))\n",
    "except:\n",
    "    print(\"\\nyou must enter only numerical values for your dictionary\")"
   ]
  },
  {
   "cell_type": "markdown",
   "id": "8b59cad5",
   "metadata": {},
   "source": [
    "### 3.\tWrite a Python program to Merging two Dictionaries?"
   ]
  },
  {
   "cell_type": "code",
   "execution_count": 4,
   "id": "d6be06fe",
   "metadata": {},
   "outputs": [
    {
     "name": "stdout",
     "output_type": "stream",
     "text": [
      "enter first dictionary\n",
      "\n",
      "how many key value pairs do you have? 2\n",
      "enter key = 1\n",
      "enter corresponding value = dsf\n",
      "enter key = 2\n",
      "enter corresponding value = dfgt\n",
      "\n",
      "enter second dictionary\n",
      "\n",
      "how many key value pairs do you have? 3\n",
      "enter key = fgs\n",
      "enter corresponding value = 4\n",
      "enter key = dfg\n",
      "enter corresponding value = dfs\n",
      "enter key = fd\n",
      "enter corresponding value = gdg\n",
      "\n",
      "your merged dictionary:  {'1': 'dsf', '2': 'dfgt', 'fgs': '4', 'dfg': 'dfs', 'fd': 'gdg'}\n"
     ]
    }
   ],
   "source": [
    "print('enter first dictionary\\n')\n",
    "n = int(input('how many key value pairs do you have? '))\n",
    "dict1 = {}\n",
    "for i in range(n):\n",
    "    p = input(\"enter key = \")\n",
    "    dict1[p] = input(\"enter corresponding value = \")\n",
    "print('\\nenter second dictionary\\n')\n",
    "m = int(input('how many key value pairs do you have? '))\n",
    "dict2 = {}\n",
    "for i in range(m):\n",
    "    p = input(\"enter key = \")\n",
    "    dict2[p] = input(\"enter corresponding value = \")\n",
    "\n",
    "dict3 = {**dict1,**dict2}\n",
    "print(\"\\nyour merged dictionary: \",dict3)"
   ]
  },
  {
   "cell_type": "markdown",
   "id": "43d4db7d",
   "metadata": {},
   "source": [
    "### 4.\tWrite a Python program to convert key-values list to flat dictionary?"
   ]
  },
  {
   "cell_type": "code",
   "execution_count": 22,
   "id": "4aa169af",
   "metadata": {},
   "outputs": [
    {
     "name": "stdout",
     "output_type": "stream",
     "text": [
      "how many key value pairs do you have? 3\n",
      "enter key = 23\n",
      "enter corresponding value = fdgs\n",
      "enter key = 43\n",
      "enter corresponding value = fghd\n",
      "enter key = 54\n",
      "enter corresponding value = gjf\n",
      "\n",
      "your flat dictionary: ['23', 'fdgs', '43', 'fghd', '54', 'gjf']\n"
     ]
    }
   ],
   "source": [
    "n = int(input('how many key value pairs do you have? '))\n",
    "dict1 = {}\n",
    "for i in range(n):\n",
    "    p = input(\"enter key = \")\n",
    "    dict1[p] = input(\"enter corresponding value = \")\n",
    "list1 = []    \n",
    "for i in dict1.keys():\n",
    "    list1.append(i)\n",
    "    list1.append(dict1[i])\n",
    "print(\"\\nyour flat dictionary:\",list1)"
   ]
  },
  {
   "cell_type": "markdown",
   "id": "550aea6f",
   "metadata": {},
   "source": [
    "### 5.\tWrite a Python program to insertion at the beginning in OrderedDict?"
   ]
  },
  {
   "cell_type": "code",
   "execution_count": 1,
   "id": "bc99c049",
   "metadata": {},
   "outputs": [
    {
     "name": "stdout",
     "output_type": "stream",
     "text": [
      "Ordered Dictionary is:  OrderedDict([('Jan', '1'), ('Feb', '2'), ('Mar', '3')])\n"
     ]
    }
   ],
   "source": [
    "from collections import OrderedDict\n",
    "ordered_dict = OrderedDict([('Feb', '2'), ('Mar', '3')])\n",
    "ordered_dict.update({'Jan':'1'})\n",
    "ordered_dict.move_to_end('Jan', last = False)\n",
    "print (\"Ordered Dictionary is: \",ordered_dict)"
   ]
  },
  {
   "cell_type": "markdown",
   "id": "ed78a7f4",
   "metadata": {},
   "source": [
    "### 6.\tWrite a Python program to check order of character in string using OrderedDict()?"
   ]
  },
  {
   "cell_type": "code",
   "execution_count": 2,
   "id": "5c711a50",
   "metadata": {},
   "outputs": [
    {
     "name": "stdout",
     "output_type": "stream",
     "text": [
      "Enter String : priyankar\n",
      "Enter Pattern : iaa\n",
      "Pattern matched\n"
     ]
    }
   ],
   "source": [
    "from collections import OrderedDict\n",
    "def checkOrder(input, pattern):\n",
    "    dict = OrderedDict.fromkeys(input)\n",
    "    ptrlen = 0\n",
    "    for key,value in dict.items():\n",
    "        if (key == pattern[ptrlen]):\n",
    "            ptrlen = ptrlen + 1\n",
    "        if (ptrlen == (len(pattern))):\n",
    "            return 'true'\n",
    "    return 'false'\n",
    "\n",
    "string = input(\"Enter String : \")\n",
    "pattern = input(\"Enter Pattern : \")\n",
    "if checkOrder(string,pattern):\n",
    "    print(\"Pattern matched\")\n",
    "else:\n",
    "    print(\"Pattern not matched\")"
   ]
  },
  {
   "cell_type": "markdown",
   "id": "c2d74b6a",
   "metadata": {},
   "source": [
    "### 7.\tWrite a Python program to sort Python Dictionaries by Key or Value?"
   ]
  },
  {
   "cell_type": "code",
   "execution_count": 19,
   "id": "2a778365",
   "metadata": {},
   "outputs": [
    {
     "name": "stdout",
     "output_type": "stream",
     "text": [
      "how many key value pairs do you have? 3\n",
      "enter key = 54\n",
      "enter corresponding value = gfhh\n",
      "enter key = 23\n",
      "enter corresponding value = fvggs\n",
      "enter key = 67\n",
      "enter corresponding value = hfhr\n",
      "enter 0 to sort by key or 1 to sort by value : 1\n",
      "[('23', 'fvggs'), ('54', 'gfhh'), ('67', 'hfhr')]\n"
     ]
    }
   ],
   "source": [
    "n = int(input('how many key value pairs do you have? '))\n",
    "dict1 = {}\n",
    "for i in range(n):\n",
    "    p = input(\"enter key = \")\n",
    "    dict1[p] = input(\"enter corresponding value = \")\n",
    "\n",
    "val = int(input(\"enter 0 to sort by key or 1 to sort by value : \"))\n",
    "if val == 0:\n",
    "    k_sort = sorted(dict1.items(),key = lambda x : x[0])\n",
    "    print(k_sort)\n",
    "    \n",
    "else:\n",
    "    v_sort = sorted(dict1.items(),key = lambda x : x[1])\n",
    "    print(v_sort)"
   ]
  }
 ],
 "metadata": {
  "kernelspec": {
   "display_name": "Python 3",
   "language": "python",
   "name": "python3"
  },
  "language_info": {
   "codemirror_mode": {
    "name": "ipython",
    "version": 3
   },
   "file_extension": ".py",
   "mimetype": "text/x-python",
   "name": "python",
   "nbconvert_exporter": "python",
   "pygments_lexer": "ipython3",
   "version": "3.8.8"
  }
 },
 "nbformat": 4,
 "nbformat_minor": 5
}
