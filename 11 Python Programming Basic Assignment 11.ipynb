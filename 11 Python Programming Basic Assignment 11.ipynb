{
 "cells": [
  {
   "cell_type": "markdown",
   "id": "4b8dedfe",
   "metadata": {},
   "source": [
    "### 1.\tWrite a Python program to find words which are greater than given length k?"
   ]
  },
  {
   "cell_type": "code",
   "execution_count": 1,
   "id": "38d90774",
   "metadata": {},
   "outputs": [
    {
     "name": "stdout",
     "output_type": "stream",
     "text": [
      "enter total number of your words: 5\n",
      "enter length k :4\n",
      "\n",
      "enter your words one by one: \n",
      "akdjd\n",
      "fdas\n",
      "hre\n",
      "fgdhe\n",
      "gf\n",
      "\n",
      "your final list: \n",
      "akdjd\n",
      "fgdhe\n"
     ]
    }
   ],
   "source": [
    "n = int(input(\"enter total number of your words: \"))\n",
    "k = int(input(\"enter length k :\"))\n",
    "list1 = []\n",
    "print(\"\\nenter your words one by one: \")\n",
    "for i in range(n):\n",
    "    word = input()\n",
    "    if len(word) > k:\n",
    "        list1.append(word)\n",
    "print('\\nyour final list: ')\n",
    "for i in list1:\n",
    "    print(i)"
   ]
  },
  {
   "cell_type": "markdown",
   "id": "caace0d5",
   "metadata": {},
   "source": [
    "### 2.\tWrite a Python program for removing i-th character from a string?"
   ]
  },
  {
   "cell_type": "code",
   "execution_count": 10,
   "id": "f59c6922",
   "metadata": {},
   "outputs": [
    {
     "name": "stdout",
     "output_type": "stream",
     "text": [
      "enter your string: jksdfah\n",
      "enter value of i :3\n",
      "your final string:  jkdfah\n"
     ]
    }
   ],
   "source": [
    "list1 = list(input(\"enter your string: \"))\n",
    "i = int(input(\"enter value of i : \"))\n",
    "list1.pop(i-1)\n",
    "print('your final string: ', \"\".join(list1))"
   ]
  },
  {
   "cell_type": "markdown",
   "id": "6a4715d0",
   "metadata": {},
   "source": [
    "### 3.\tWrite a Python program to split and join a string?"
   ]
  },
  {
   "cell_type": "code",
   "execution_count": 14,
   "id": "490dc8bd",
   "metadata": {},
   "outputs": [
    {
     "name": "stdout",
     "output_type": "stream",
     "text": [
      "enter your string: gtrdeythfhg\n",
      "\n",
      "your splitted strings are: \n",
      " gtrde \n",
      " ythfhg\n",
      "\n",
      "your joined string is: \n",
      " gtrdeythfhg\n"
     ]
    }
   ],
   "source": [
    "list1 = list(input(\"enter your string: \"))\n",
    "first = list1[:len(list1)//2]\n",
    "second = list1[len(list1)//2:]\n",
    "print('\\nyour splitted strings are: \\n',\"\".join(first),\"\\n\",\"\".join(second))\n",
    "print(\"\\nyour joined string is: \\n\", \"\".join(first + second))"
   ]
  },
  {
   "cell_type": "markdown",
   "id": "df9f8655",
   "metadata": {},
   "source": [
    "### 4.\tWrite a Python to check if a given string is binary string or not?"
   ]
  },
  {
   "cell_type": "code",
   "execution_count": 24,
   "id": "72a7c96a",
   "metadata": {},
   "outputs": [
    {
     "name": "stdout",
     "output_type": "stream",
     "text": [
      "enter your string: 11111\n",
      "\n",
      " it is a binary string\n"
     ]
    }
   ],
   "source": [
    "try:\n",
    "    str1 = input(\"enter your string: \")\n",
    "    list1 = []\n",
    "    for i in str1:\n",
    "        if int(i) == 1 or int(i) == 0:\n",
    "            list1.append(i)\n",
    "    if len(str1) == len(list1):\n",
    "        print(\"\\n it is a binary string\")\n",
    "    else:\n",
    "        print(\"\\n not a binary string\")\n",
    "except:\n",
    "    print(\"\\n not a binary string\")"
   ]
  },
  {
   "cell_type": "markdown",
   "id": "29427f79",
   "metadata": {},
   "source": [
    "### 5.\tWrite a Python program to find uncommon words from two Strings?"
   ]
  },
  {
   "cell_type": "code",
   "execution_count": 34,
   "id": "0774e0b9",
   "metadata": {},
   "outputs": [
    {
     "name": "stdout",
     "output_type": "stream",
     "text": [
      "enter your first string:a b c a e e\n",
      "enter your second string:s f b a f g\n",
      "all the uncommon words\n",
      "e\n",
      "c\n",
      "s\n",
      "g\n",
      "f\n"
     ]
    }
   ],
   "source": [
    "str1 = list(input(\"enter your first string:\").split())\n",
    "str2 = list(input(\"enter your second string:\").split())\n",
    "\n",
    "list1 = list(set(str1))\n",
    "listx = list1 [:]\n",
    "list2 = list(set(str2))\n",
    "listy = list2 [:]\n",
    "for i in listx:\n",
    "    for j in listy:\n",
    "        if i == j:\n",
    "            list1.remove(i)\n",
    "            list2.remove(j)\n",
    "print(\"all the uncommon words\")\n",
    "for i in (list1+list2):\n",
    "    print(i)\n"
   ]
  },
  {
   "cell_type": "markdown",
   "id": "c42875f9",
   "metadata": {},
   "source": [
    "### 6.\tWrite a Python to find all duplicate characters in string?"
   ]
  },
  {
   "cell_type": "code",
   "execution_count": 40,
   "id": "c43cc781",
   "metadata": {},
   "outputs": [
    {
     "name": "stdout",
     "output_type": "stream",
     "text": [
      "enter your character string: dfaaesgdasfds\n",
      "['s', 'd', 'f', 'a']\n"
     ]
    }
   ],
   "source": [
    "list1 = list(input(\"enter your character string: \"))\n",
    "list2 = list(filter(lambda x: list1.count(x) > 1,set(list1)))\n",
    "print(\"repeatative elements\",list2)\n"
   ]
  },
  {
   "cell_type": "markdown",
   "id": "ac647b8a",
   "metadata": {},
   "source": [
    "### 7.\tWrite a Python Program to check if a string contains any special character?"
   ]
  },
  {
   "cell_type": "code",
   "execution_count": 47,
   "id": "bc6b9996",
   "metadata": {},
   "outputs": [
    {
     "name": "stdout",
     "output_type": "stream",
     "text": [
      "enter your string: lgf;dgfh\n",
      "your string has special character\n"
     ]
    }
   ],
   "source": [
    "list1 = list(input(\"enter your string: \"))\n",
    "list2 = []\n",
    "desire_list = list(range(48,58)) + list(range(65,91)) + list(range(97,123))\n",
    "for i in list1:\n",
    "    if ord(i) not in desire_list:\n",
    "        print(\"your string has special character\")\n",
    "        break    \n",
    "    else:\n",
    "        list2.append(i)\n",
    "if len(list2) == len(list1):\n",
    "    print(\"your string doesn't have any special character\")"
   ]
  }
 ],
 "metadata": {
  "kernelspec": {
   "display_name": "Python 3",
   "language": "python",
   "name": "python3"
  },
  "language_info": {
   "codemirror_mode": {
    "name": "ipython",
    "version": 3
   },
   "file_extension": ".py",
   "mimetype": "text/x-python",
   "name": "python",
   "nbconvert_exporter": "python",
   "pygments_lexer": "ipython3",
   "version": "3.8.8"
  }
 },
 "nbformat": 4,
 "nbformat_minor": 5
}
