{
 "cells": [
  {
   "cell_type": "markdown",
   "id": "2ce68731",
   "metadata": {},
   "source": [
    "### Question 1:\n",
    "\n",
    "Define a class with a generator which can iterate the numbers, which are divisible by 7, between a given range 0 and n.\n"
   ]
  },
  {
   "cell_type": "code",
   "execution_count": 6,
   "id": "d50618d3",
   "metadata": {},
   "outputs": [],
   "source": [
    "class seven_div:\n",
    "    def __init__(self,limit):\n",
    "        self.limit = limit\n",
    "    \n",
    "    def divisibility(self):\n",
    "        for i in range(self.limit):\n",
    "            if i % 7 == 0:\n",
    "                yield i\n"
   ]
  },
  {
   "cell_type": "code",
   "execution_count": 10,
   "id": "d72ecb2b",
   "metadata": {},
   "outputs": [
    {
     "name": "stdout",
     "output_type": "stream",
     "text": [
      "enter your limit: 100\n",
      "\n",
      "0\n",
      "7\n",
      "14\n",
      "21\n",
      "28\n",
      "35\n",
      "42\n",
      "49\n",
      "56\n",
      "63\n",
      "70\n",
      "77\n",
      "84\n",
      "91\n",
      "98\n"
     ]
    }
   ],
   "source": [
    "obj1 = seven_div(int(input(\"enter your limit: \")))\n",
    "print()\n",
    "for i in obj1.divisibility():\n",
    "    print(i)"
   ]
  },
  {
   "cell_type": "markdown",
   "id": "8f369df1",
   "metadata": {},
   "source": [
    "### Question 2:\n",
    "Write a program to compute the frequency of the words from the input. The output should output after sorting the key alphanumerically. \n",
    "\n",
    "Suppose the following input is supplied to the program:\n",
    "\n",
    "New to Python or choosing between Python 2 and Python 3? Read Python 2 or Python 3.\n",
    "\n",
    "Then, the output should be:\n",
    "\n",
    "2:2\n",
    "\n",
    "3.:1\n",
    "\n",
    "3?:1\n",
    "\n",
    "New:1\n",
    "\n",
    "Python:5\n",
    "\n",
    "Read:1\n",
    "\n",
    "and:1\n",
    "\n",
    "between:1\n",
    "\n",
    "choosing:1\n",
    "\n",
    "or:2\n",
    "\n",
    "to:1\n"
   ]
  },
  {
   "cell_type": "code",
   "execution_count": 4,
   "id": "8a7e2e8f",
   "metadata": {},
   "outputs": [
    {
     "name": "stdout",
     "output_type": "stream",
     "text": [
      "New to Python or choosing between Python 2 and Python 3? Read Python 2 or Python 3.\n",
      "2 : 2\n",
      "3. : 1\n",
      "3? : 1\n",
      "New : 1\n",
      "Python : 5\n",
      "Read : 1\n",
      "and : 1\n",
      "between : 1\n",
      "choosing : 1\n",
      "or : 2\n",
      "to : 1\n"
     ]
    }
   ],
   "source": [
    "str1 = input().split()\n",
    "unique_str = list(set(str1))\n",
    "unique_str = sorted(unique_str)\n",
    "for j in unique_str:\n",
    "    print(j,':',str1.count(j))\n"
   ]
  },
  {
   "cell_type": "markdown",
   "id": "76dd7894",
   "metadata": {},
   "source": [
    "### Question 3:\n",
    "\n",
    "\n",
    "\n",
    "Define a class Person and its two child classes: Male and Female. All classes have a method \"getGender\" which can print \"Male\" for Male class and \"Female\" for Female class.\n"
   ]
  },
  {
   "cell_type": "code",
   "execution_count": 7,
   "id": "83048eca",
   "metadata": {},
   "outputs": [
    {
     "name": "stdout",
     "output_type": "stream",
     "text": [
      "Male\n",
      "Female\n"
     ]
    }
   ],
   "source": [
    "class Person(object):\n",
    "    def getGender( self ):\n",
    "        return \"None\"\n",
    "class Male( Person ):\n",
    "    def getGender( self ):\n",
    "        return \"Male\"\n",
    "class Female( Person ):\n",
    "    def getGender( self ):\n",
    "        return \"Female\"\n",
    "\n",
    "ob_male = Male()\n",
    "ob_female= Female()\n",
    "print(ob_male.getGender())\n",
    "print(ob_female.getGender())       "
   ]
  },
  {
   "cell_type": "markdown",
   "id": "aa5978e0",
   "metadata": {},
   "source": [
    "### Question 4:\n",
    "Please write a program to generate all sentences where subject is in [\"I\", \"You\"] and verb is in [\"Play\", \"Love\"] and the object is in [\"Hockey\",\"Football\"].\n"
   ]
  },
  {
   "cell_type": "code",
   "execution_count": 4,
   "id": "9acada8f",
   "metadata": {},
   "outputs": [
    {
     "name": "stdout",
     "output_type": "stream",
     "text": [
      "I Play Hockey\n",
      "I Play Football\n",
      "I Love Hockey\n",
      "I Love Football\n",
      "You Play Hockey\n",
      "You Play Football\n",
      "You Love Hockey\n",
      "You Love Football\n"
     ]
    }
   ],
   "source": [
    "subject = [\"I\", \"You\"]\n",
    "verb = [\"Play\", \"Love\"]\n",
    "object = [\"Hockey\",\"Football\"]\n",
    "for i in subject:\n",
    "    for j in verb:\n",
    "        for k in object:\n",
    "            print('{} {} {}'.format(i,j,k))"
   ]
  },
  {
   "cell_type": "markdown",
   "id": "710b4ff8",
   "metadata": {},
   "source": [
    "### Question 5:\n",
    "Please write a program to compress and decompress the string \"hello world!hello world!hello world!hello world!\".\n"
   ]
  },
  {
   "cell_type": "code",
   "execution_count": 15,
   "id": "39ada319",
   "metadata": {},
   "outputs": [
    {
     "name": "stdout",
     "output_type": "stream",
     "text": [
      "Enter the String: uityyutuytyu\n",
      "Size of Given String:  12\n",
      "Compressed String:  b'x\\x9c+\\xcd,\\xa9\\xac,-)\\xad,\\xa9,\\x05\\x00#w\\x05~'\n",
      "Size of Compressed String:  20\n",
      "Decompressed String:  b'uityyutuytyu'\n",
      "Size of Decompressed String:  12\n"
     ]
    }
   ],
   "source": [
    "#final\n",
    "\n",
    "from zlib import compress,decompress\n",
    "string = input(\"Enter the String: \")\n",
    "b_string = bytes(string,'utf-8')\n",
    "print(\"Size of Given String: \",len(b_string))\n",
    "print(\"Compressed String: \",compress(b_string))\n",
    "print(\"Size of Compressed String: \",len(compress(b_string)))\n",
    "print(\"Decompressed String: \",decompress(compress(b_string)))\n",
    "print(\"Size of Decompressed String: \",len(decompress(compress(b_string))))\n",
    "\n",
    "#by org"
   ]
  },
  {
   "cell_type": "markdown",
   "id": "b63834c2",
   "metadata": {},
   "source": [
    "### Question 6:\n",
    "Please write a binary search function which searches an item in a sorted list. The function should return the index of element to be searched in the list.\n"
   ]
  },
  {
   "cell_type": "markdown",
   "id": "244ab403",
   "metadata": {},
   "source": [
    "11, 12, 13, 19, 23, 34, 45, 56, 67, 78, 88, 89"
   ]
  },
  {
   "cell_type": "markdown",
   "id": "f9ff34ff",
   "metadata": {},
   "source": [
    "l1= 11,12,13,19,23,34,45,56,67,78,88,89,45,65,67,23,43,545\n",
    "l1.count(23)"
   ]
  },
  {
   "cell_type": "markdown",
   "id": "45cb9885",
   "metadata": {},
   "source": [
    "0,1,2,3,4,5,6,7,8,9\n",
    "0,1,2,3,5,5,6,7,8,9\n",
    "0,1,2,5,5,5,6,7,8,9\n",
    "0,1,5,5,5,5,6,7,7,9"
   ]
  },
  {
   "cell_type": "code",
   "execution_count": 3,
   "id": "fc68f835",
   "metadata": {},
   "outputs": [],
   "source": [
    "from bisect import bisect_left\n",
    "def BinarySearch(a, x):\n",
    "    i = bisect_left(a, x)\n",
    "    if i != len(a) and a[i] == x:\n",
    "        return i\n",
    "    else:\n",
    "        return -1"
   ]
  },
  {
   "cell_type": "code",
   "execution_count": 4,
   "id": "53c248aa",
   "metadata": {},
   "outputs": [
    {
     "name": "stdout",
     "output_type": "stream",
     "text": [
      "Enter The List: 11,12,13,19,23,34,45,56,67,78,88,89,45,65,67,23,43,545\n",
      "Enter Search Element: 100\n",
      "Element Not Found!\n"
     ]
    }
   ],
   "source": [
    "list1 = list(map(int,input('Enter The List: ').split(',')))\n",
    "search = int(input('Enter Search Element: '))\n",
    "x = BinarySearch(list1,search)\n",
    "if x!= -1:\n",
    "    print(\"Index of the Element is:\",BinarySearch(sorted(list1),search))\n",
    "else:\n",
    "    print(\"Element Not Found!\")"
   ]
  }
 ],
 "metadata": {
  "kernelspec": {
   "display_name": "Python 3",
   "language": "python",
   "name": "python3"
  },
  "language_info": {
   "codemirror_mode": {
    "name": "ipython",
    "version": 3
   },
   "file_extension": ".py",
   "mimetype": "text/x-python",
   "name": "python",
   "nbconvert_exporter": "python",
   "pygments_lexer": "ipython3",
   "version": "3.8.8"
  }
 },
 "nbformat": 4,
 "nbformat_minor": 5
}
