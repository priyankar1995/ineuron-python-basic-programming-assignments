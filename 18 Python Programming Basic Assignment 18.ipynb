{
 "cells": [
  {
   "cell_type": "markdown",
   "id": "a2d6edf7",
   "metadata": {},
   "source": [
    "### Question 1\n",
    "Create a function that takes a list of non-negative integers and strings and return a new list without the strings.\n",
    "\n",
    "Examples\n",
    "\n",
    "filter_list([1, 2, \"a\", \"b\"]) ➞ [1, 2]\n",
    "\n",
    "filter_list([1, \"a\", \"b\", 0, 15]) ➞ [1, 0, 15]\n",
    "\n",
    "filter_list([1, 2, \"aasf\", \"1\", \"123\", 123]) ➞ [1, 2, 123]\n"
   ]
  },
  {
   "cell_type": "code",
   "execution_count": 6,
   "id": "a97aab20",
   "metadata": {},
   "outputs": [],
   "source": [
    "def filter_list(list1):\n",
    "    list2 = []\n",
    "    for i in list1:\n",
    "        try:\n",
    "            list2.append(int(i))\n",
    "        except:\n",
    "            pass\n",
    "    return list2"
   ]
  },
  {
   "cell_type": "code",
   "execution_count": 7,
   "id": "4fc80056",
   "metadata": {},
   "outputs": [
    {
     "name": "stdout",
     "output_type": "stream",
     "text": [
      "enter your list (comma and space separated): 1, 2, \"a\", \"b\n",
      "\n",
      "your new filtered list\n",
      " [1, 2]\n"
     ]
    }
   ],
   "source": [
    "list1 = input(\"enter your list (comma and space separated): \").split(', ')\n",
    "print('\\nyour new filtered list\\n',filter_list(list1))"
   ]
  },
  {
   "cell_type": "markdown",
   "id": "b3e2d7b5",
   "metadata": {},
   "source": [
    "### Question 2\n",
    "The \"Reverser\" takes a string as input and returns that string in reverse order, with the opposite case.\n",
    "\n",
    "Examples\n",
    "\n",
    "reverse(\"Hello World\") ➞ \"DLROw OLLEh\"\n",
    "\n",
    "reverse(\"ReVeRsE\") ➞ \"eSrEvEr\"\n",
    "\n",
    "reverse(\"Radar\") ➞ \"RADAr\"\n"
   ]
  },
  {
   "cell_type": "code",
   "execution_count": 9,
   "id": "dad5026c",
   "metadata": {},
   "outputs": [],
   "source": [
    "def reverser(str1):\n",
    "    list1 = str1\n",
    "    list1 = [i.swapcase() for i in list1[::-1]]\n",
    "    return \"\".join(list1)\n"
   ]
  },
  {
   "cell_type": "code",
   "execution_count": 13,
   "id": "dadbe8d4",
   "metadata": {},
   "outputs": [
    {
     "name": "stdout",
     "output_type": "stream",
     "text": [
      "enter your string: Hello World\n",
      "\n",
      "your reverse string is: \n",
      " DLROw OLLEh\n"
     ]
    }
   ],
   "source": [
    "str1 = input(\"enter your string: \")\n",
    "print('\\nyour reverse string is: \\n', reverser(str1))"
   ]
  },
  {
   "cell_type": "markdown",
   "id": "8fadad48",
   "metadata": {},
   "source": [
    "### Question 3\n",
    "You can assign variables from lists like this:\n",
    "\n",
    "lst = [1, 2, 3, 4, 5, 6]\n",
    "\n",
    "first = lst[0]\n",
    "\n",
    "middle = lst[1:-1]\n",
    "\n",
    "last = lst[-1]\n",
    "\n",
    "\n",
    "print(first) ➞ outputs 1\n",
    "\n",
    "print(middle) ➞ outputs [2, 3, 4, 5]\n",
    "\n",
    "print(last) ➞ outputs 6\n",
    "\n",
    "With Python 3, you can assign variables from lists in a much more succinct way. Create variables first, middle and last from the given list using destructuring assignment (check the Resources tab for some examples), where:\n",
    "\n",
    "first  ➞ 1\n",
    "\n",
    "middle ➞ [2, 3, 4, 5]\n",
    "\n",
    "last ➞ 6\n",
    "\n",
    "Your task is to unpack the list writeyourcodehere into three variables, being first, middle, and last, with middle being everything in between the first and last element. Then print all three variables.\n"
   ]
  },
  {
   "cell_type": "code",
   "execution_count": 3,
   "id": "0d7c1fff",
   "metadata": {
    "scrolled": true
   },
   "outputs": [
    {
     "name": "stdout",
     "output_type": "stream",
     "text": [
      "enter the list: 1, 2, 3, 4, 5, 6\n",
      "first =  1\n",
      "middle =  ['2', '3', '4', '5']\n",
      "last =  6\n"
     ]
    }
   ],
   "source": [
    "writeyourcodehere = input(\"enter the list: \").split(', ')\n",
    "first = writeyourcodehere[0]\n",
    "middle = writeyourcodehere[1:-1]\n",
    "last = writeyourcodehere[-1]\n",
    "print('first = ',first)\n",
    "print('middle = ',middle)\n",
    "print('last = ',last)"
   ]
  },
  {
   "cell_type": "markdown",
   "id": "4e4e1cc4",
   "metadata": {},
   "source": [
    "### Question 4\n",
    "Write a function that calculates the factorial of a number recursively.\n",
    "\n",
    "Examples\n",
    "\n",
    "factorial(5) ➞ 120\n",
    "\n",
    "factorial(3) ➞ 6\n",
    "\n",
    "factorial(1) ➞ 1\n",
    "\n",
    "factorial(0) ➞ 1\n"
   ]
  },
  {
   "cell_type": "code",
   "execution_count": null,
   "id": "6519600d",
   "metadata": {},
   "outputs": [],
   "source": [
    "def factorial(n,fact = 1):\n",
    "    fact = fact * n\n",
    "    n = n-1\n",
    "    if n == 0:\n",
    "        return fact\n",
    "    return factorial(n,fact = fact)"
   ]
  },
  {
   "cell_type": "code",
   "execution_count": null,
   "id": "8771065a",
   "metadata": {},
   "outputs": [],
   "source": [
    "n= int(input(\"enter your number: \"))\n",
    "print(\"factorial = \",factorial(n))"
   ]
  },
  {
   "cell_type": "markdown",
   "id": "ddabc445",
   "metadata": {},
   "source": [
    "### Question 5\n",
    "Write a function that moves all elements of one type to the end of the list.\n",
    "\n",
    "Examples\n",
    "\n",
    "move_to_end([1, 3, 2, 4, 4, 1], 1) ➞ [3, 2, 4, 4, 1, 1]\n",
    "\n",
    "# Move all the 1s to the end of the array.\n",
    "\n",
    "move_to_end([7, 8, 9, 1, 2, 3, 4], 9) ➞ [7, 8, 1, 2, 3, 4, 9]\n",
    "\n",
    "move_to_end([\"a\", \"a\", \"a\", \"b\"], \"a\") ➞ [\"b\", \"a\", \"a\", \"a\"]\n"
   ]
  },
  {
   "cell_type": "code",
   "execution_count": 3,
   "id": "99111494",
   "metadata": {},
   "outputs": [],
   "source": [
    "def move_to_end(list1,x):\n",
    "    for i in list1:\n",
    "        if i == x:\n",
    "            list1.remove(i)\n",
    "            list1.append(i)\n",
    "    return list1\n"
   ]
  },
  {
   "cell_type": "code",
   "execution_count": 6,
   "id": "6b4f8c23",
   "metadata": {},
   "outputs": [
    {
     "name": "stdout",
     "output_type": "stream",
     "text": [
      "enter the list : 1, 3, 2, 4, 4, 1\n",
      "enter the list : 1\n",
      "['3', '2', '4', '4', '1', '1']\n"
     ]
    }
   ],
   "source": [
    "list1 = input(\"enter the list : \").split(', ')\n",
    "x = input(\"enter the list : \")\n",
    "print(move_to_end(list1,x))"
   ]
  }
 ],
 "metadata": {
  "kernelspec": {
   "display_name": "Python 3",
   "language": "python",
   "name": "python3"
  },
  "language_info": {
   "codemirror_mode": {
    "name": "ipython",
    "version": 3
   },
   "file_extension": ".py",
   "mimetype": "text/x-python",
   "name": "python",
   "nbconvert_exporter": "python",
   "pygments_lexer": "ipython3",
   "version": "3.8.8"
  }
 },
 "nbformat": 4,
 "nbformat_minor": 5
}
