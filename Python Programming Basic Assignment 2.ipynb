{
 "cells": [
  {
   "cell_type": "markdown",
   "id": "7b37730f",
   "metadata": {},
   "source": [
    "### 1.\tWrite a Python program to convert kilometers to miles?"
   ]
  },
  {
   "cell_type": "code",
   "execution_count": 2,
   "id": "654de46e",
   "metadata": {},
   "outputs": [
    {
     "name": "stdout",
     "output_type": "stream",
     "text": [
      "enter the distace in kilometer: 1\n",
      "the distance in mile =  0.6213727366498067\n"
     ]
    }
   ],
   "source": [
    "k = float(input(\"enter the distace in kilometers: \"))\n",
    "print(\"the distance in miles = \", k/1.60934)"
   ]
  },
  {
   "cell_type": "markdown",
   "id": "a7489de1",
   "metadata": {},
   "source": [
    "### 2.\tWrite a Python program to convert Celsius to Fahrenheit?"
   ]
  },
  {
   "cell_type": "code",
   "execution_count": 5,
   "id": "0a68691c",
   "metadata": {},
   "outputs": [
    {
     "name": "stdout",
     "output_type": "stream",
     "text": [
      "input the temperature in cerlsius: 100\n",
      "the temparature in fahrenheit =  212.0\n"
     ]
    }
   ],
   "source": [
    "c = float(input(\"input the temperature in cerlsius: \"))\n",
    "print(\"the temparature in fahrenheit = \", ((c*9)/5)+32)"
   ]
  },
  {
   "cell_type": "markdown",
   "id": "c67e1078",
   "metadata": {},
   "source": [
    "### 3.\tWrite a Python program to display calendar?"
   ]
  },
  {
   "cell_type": "code",
   "execution_count": 12,
   "id": "c92f01a1",
   "metadata": {},
   "outputs": [
    {
     "name": "stdout",
     "output_type": "stream",
     "text": [
      "enter your year:123\n",
      "enter your month:11\n",
      "\n",
      "your calender\n",
      "\n",
      "     November 123\n",
      "Mo Tu We Th Fr Sa Su\n",
      " 1  2  3  4  5  6  7\n",
      " 8  9 10 11 12 13 14\n",
      "15 16 17 18 19 20 21\n",
      "22 23 24 25 26 27 28\n",
      "29 30\n",
      "\n"
     ]
    }
   ],
   "source": [
    "#we have to import calendar module\n",
    "\n",
    "import calendar\n",
    "yyyy = int(input(\"enter your year:\"))\n",
    "mm = int(input('enter your month:'))\n",
    "\n",
    "print(\"\\nyour calender\\n\\n\",calendar.month(yyyy,mm))"
   ]
  },
  {
   "cell_type": "markdown",
   "id": "82e7a580",
   "metadata": {},
   "source": [
    "### 4.\tWrite a Python program to solve quadratic equation?\n"
   ]
  },
  {
   "cell_type": "code",
   "execution_count": null,
   "id": "8272042b",
   "metadata": {},
   "outputs": [],
   "source": [
    "a = int(input(\"enter the coefficient of x^2: \"))\n",
    "b = int(input(\"enter the coefficient of x^1: \"))\n",
    "c = int(input(\"enter the coefficient of x^0: \"))\n",
    "\n",
    "val1 = (-b+abs((b**2)-(4*a*c))**0.5)/(2*a)\n",
    "val2 = (-b-abs((b**2)-(4*a*c))**0.5)/(2*a)\n",
    "print(\"the two possible values are: \",val1,val2)"
   ]
  },
  {
   "cell_type": "markdown",
   "id": "ca4368d3",
   "metadata": {},
   "source": [
    "### 5.\tWrite a Python program to swap two variables without temp variable?"
   ]
  },
  {
   "cell_type": "code",
   "execution_count": 7,
   "id": "5f62ec64",
   "metadata": {},
   "outputs": [
    {
     "name": "stdout",
     "output_type": "stream",
     "text": [
      "enter variable1: 4\n",
      "enter variable2: 5\n",
      "new value of variable1:  5\n",
      "new value of variable2:  4\n"
     ]
    }
   ],
   "source": [
    "v1 = int(input(\"enter variable1: \"))\n",
    "v2 = int(input(\"enter variable2: \"))\n",
    "v1 = v1 + v2\n",
    "v2 = v1 - v2\n",
    "v1 = v1 - v2\n",
    "print(\"new value of variable1: \",v1)\n",
    "print(\"new value of variable2: \",v2)"
   ]
  }
 ],
 "metadata": {
  "kernelspec": {
   "display_name": "Python 3",
   "language": "python",
   "name": "python3"
  },
  "language_info": {
   "codemirror_mode": {
    "name": "ipython",
    "version": 3
   },
   "file_extension": ".py",
   "mimetype": "text/x-python",
   "name": "python",
   "nbconvert_exporter": "python",
   "pygments_lexer": "ipython3",
   "version": "3.8.8"
  }
 },
 "nbformat": 4,
 "nbformat_minor": 5
}
