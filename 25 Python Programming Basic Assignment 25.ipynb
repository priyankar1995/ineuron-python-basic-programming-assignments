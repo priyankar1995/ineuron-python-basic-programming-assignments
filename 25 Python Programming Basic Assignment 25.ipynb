{
 "cells": [
  {
   "cell_type": "markdown",
   "id": "e678de65",
   "metadata": {},
   "source": [
    "### Question1\n",
    "Create a function that takes three integer arguments (a, b, c) and returns the amount of integers which are of equal value.\n",
    "\n",
    "Examples\n",
    "\n",
    "equal(3, 4, 3) ➞ 2\n",
    "\n",
    "equal(1, 1, 1) ➞ 3\n",
    "\n",
    "equal(3, 4, 1) ➞ 0 \n",
    "\n",
    "Notes\n",
    "Your function must return 0, 2 or 3.\n"
   ]
  },
  {
   "cell_type": "code",
   "execution_count": 8,
   "id": "f0fb3490",
   "metadata": {},
   "outputs": [],
   "source": [
    "def equal(a,b,c):\n",
    "    if a == b == c:\n",
    "        return 3\n",
    "    elif a == b or b == c or a == c:\n",
    "        return 2\n",
    "    elif a != b or b != c or a != c:\n",
    "        return 0"
   ]
  },
  {
   "cell_type": "code",
   "execution_count": 12,
   "id": "c53cddfb",
   "metadata": {},
   "outputs": [
    {
     "name": "stdout",
     "output_type": "stream",
     "text": [
      "5,5,5\n",
      "3\n"
     ]
    }
   ],
   "source": [
    "a,b,c = tuple(map(int,input().split(\",\")))\n",
    "print(equal(a,b,c))"
   ]
  },
  {
   "cell_type": "markdown",
   "id": "2415ebf1",
   "metadata": {},
   "source": [
    "### Question2\n",
    "Write a function that converts a dictionary into a list of keys-values tuples.\n",
    "\n",
    "Examples\n",
    "\n",
    "dict_to_list({\n",
    "\n",
    "  \"D\": 1,\n",
    "  \n",
    "  \"B\": 2,\n",
    "  \n",
    "  \"C\": 3\n",
    "  \n",
    "}) ➞ [(\"B\", 2), (\"C\", 3), (\"D\", 1)]\n",
    "\n",
    "dict_to_list({\n",
    "\n",
    "  \"likes\": 2,\n",
    "  \n",
    "  \"dislikes\": 3,\n",
    "  \n",
    "  \"followers\": 10\n",
    "  \n",
    "}) ➞ [(\"dislikes\", 3), (\"followers\", 10), (\"likes\", 2)]\n",
    "\n",
    "Notes\n",
    "Return the elements in the list in alphabetical order.\n"
   ]
  },
  {
   "cell_type": "code",
   "execution_count": 24,
   "id": "ee3f3513",
   "metadata": {},
   "outputs": [],
   "source": [
    "def dict_to_list(dict1):\n",
    "    list1 = []    \n",
    "    for i in dict1.keys():\n",
    "        (k,v) = i,dict1[i]\n",
    "        list1.append((k,v))\n",
    "    return list1"
   ]
  },
  {
   "cell_type": "code",
   "execution_count": 25,
   "id": "e1433faa",
   "metadata": {},
   "outputs": [
    {
     "name": "stdout",
     "output_type": "stream",
     "text": [
      "how many key value pairs do you have? 3\n",
      "enter key = d\n",
      "enter corresponding value = 2\n",
      "enter key = c\n",
      "enter corresponding value = 1\n",
      "enter key = g\n",
      "enter corresponding value = 4\n",
      "\n",
      "your key value tuple list:\n",
      " [('c', '1'), ('d', '2'), ('g', '4')]\n"
     ]
    }
   ],
   "source": [
    "n = int(input('how many key value pairs do you have? '))\n",
    "dict1 = {}\n",
    "for i in range(n):\n",
    "    p = input(\"enter key = \")\n",
    "    dict1[p] = input(\"enter corresponding value = \")\n",
    "list1 = dict_to_list(dict1)\n",
    "print(\"\\nyour key value tuple list:\\n\",sorted(list1,key = lambda x : x[0]))"
   ]
  },
  {
   "cell_type": "markdown",
   "id": "e087f1ab",
   "metadata": {},
   "source": [
    "### Question3\n",
    "Write a function that creates a dictionary with each (key, value) pair being the (lower case, upper case) versions of a letter, respectively.\n",
    "\n",
    "Examples\n",
    "\n",
    "mapping([\"p\", \"s\"]) ➞ { \"p\": \"P\", \"s\": \"S\" }\n",
    "\n",
    "mapping([\"a\", \"b\", \"c\"]) ➞ { \"a\": \"A\", \"b\": \"B\", \"c\": \"C\" }\n",
    "\n",
    "mapping([\"a\", \"v\", \"y\", \"z\"]) ➞ { \"a\": \"A\", \"v\": \"V\", \"y\": \"Y\", \"z\": \"Z\" }\n",
    "\n",
    "Notes\n",
    "All of the letters in the input list will always be lowercase.\n"
   ]
  },
  {
   "cell_type": "code",
   "execution_count": 20,
   "id": "8896f74f",
   "metadata": {},
   "outputs": [],
   "source": [
    "def mapping(n):\n",
    "    dict1 = {}\n",
    "    for i in n:\n",
    "        dict1[i] = i.swapcase()\n",
    "    return dict1"
   ]
  },
  {
   "cell_type": "code",
   "execution_count": 21,
   "id": "4aee5d9b",
   "metadata": {},
   "outputs": [
    {
     "name": "stdout",
     "output_type": "stream",
     "text": [
      "enter your keys(separated by key): a,b,c,d\n",
      "your dictionary is: {'a': 'A', 'b': 'B', 'c': 'C', 'd': 'D'}\n"
     ]
    }
   ],
   "source": [
    "n = input('enter your keys(separated by key): ').split(',')\n",
    "print('your dictionary is:',mapping(n))"
   ]
  },
  {
   "cell_type": "markdown",
   "id": "3c6cce54",
   "metadata": {},
   "source": [
    "### Question4\n",
    "Write a function, that replaces all vowels in a string with a specified vowel.\n",
    "\n",
    "Examples\n",
    "\n",
    "vow_replace(\"apples and bananas\", \"u\") ➞ \"upplus und bununus\"\n",
    "\n",
    "vow_replace(\"cheese casserole\", \"o\") ➞ \"chooso cossorolo\"\n",
    "\n",
    "vow_replace(\"stuffed jalapeno poppers\", \"e\") ➞ \"steffed jelepene peppers\"\n",
    "\n",
    "Notes\n",
    "All words will be lowercase. Y is not considered a vowel.\n"
   ]
  },
  {
   "cell_type": "code",
   "execution_count": 17,
   "id": "07034b84",
   "metadata": {},
   "outputs": [],
   "source": [
    "def vow_replace(str1,vow):\n",
    "    str2 = str1 [:]\n",
    "    for i in str1:\n",
    "        if i in ['a','e','i','o','u']:\n",
    "            str2 = str2.replace(i,vow)\n",
    "    return str2"
   ]
  },
  {
   "cell_type": "code",
   "execution_count": 19,
   "id": "d49bb414",
   "metadata": {
    "scrolled": false
   },
   "outputs": [
    {
     "name": "stdout",
     "output_type": "stream",
     "text": [
      "enter your string and vowel separated with comma: apples and bananas,u\n",
      "\n",
      "your new string is :\n",
      " upplus und bununus\n"
     ]
    }
   ],
   "source": [
    "str1,vow = input(\"enter your string and vowel separated with comma: \").split(\",\")\n",
    "print('\\nyour new string is :\\n',vow_replace(str1,vow))"
   ]
  },
  {
   "cell_type": "markdown",
   "id": "6fb1d7bc",
   "metadata": {},
   "source": [
    "### Question5\n",
    "Create a function that takes a string as input and capitalizes a letter if its ASCII code is even and returns its lower case version if its ASCII code is odd.\n",
    "\n",
    "Examples\n",
    "\n",
    "ascii_capitalize(\"to be or not to be!\") ➞ \"To Be oR NoT To Be!\"\n",
    "\n",
    "ascii_capitalize(\"THE LITTLE MERMAID\") ➞ \"THe LiTTLe meRmaiD\"\n",
    "\n",
    "ascii_capitalize(\"Oh what a beautiful morning.\") ➞ \"oH wHaT a BeauTiFuL moRNiNg.\"\n"
   ]
  },
  {
   "cell_type": "code",
   "execution_count": 15,
   "id": "fd70f5aa",
   "metadata": {},
   "outputs": [],
   "source": [
    "def ascii_capitalize(x):\n",
    "    s1 = ''\n",
    "    for i in x:\n",
    "        if ord(i)%2 == 0:\n",
    "              s1 += i.upper()\n",
    "        if ord(i)%2 != 0:\n",
    "              s1 += i.lower()\n",
    "    return s1"
   ]
  },
  {
   "cell_type": "code",
   "execution_count": 16,
   "id": "a5bb1db9",
   "metadata": {},
   "outputs": [
    {
     "name": "stdout",
     "output_type": "stream",
     "text": [
      "enter your string: Oh what a beautiful morning.\n",
      "\n",
      "your new string:\n",
      " oH wHaT a BeauTiFuL moRNiNg.\n"
     ]
    }
   ],
   "source": [
    "str1 = input(\"enter your string: \")\n",
    "print('\\nyour new string:\\n',ascii_capitalize(str1))"
   ]
  }
 ],
 "metadata": {
  "kernelspec": {
   "display_name": "Python 3",
   "language": "python",
   "name": "python3"
  },
  "language_info": {
   "codemirror_mode": {
    "name": "ipython",
    "version": 3
   },
   "file_extension": ".py",
   "mimetype": "text/x-python",
   "name": "python",
   "nbconvert_exporter": "python",
   "pygments_lexer": "ipython3",
   "version": "3.8.8"
  }
 },
 "nbformat": 4,
 "nbformat_minor": 5
}
