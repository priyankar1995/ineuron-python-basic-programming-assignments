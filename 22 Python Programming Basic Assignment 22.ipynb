{
 "cells": [
  {
   "cell_type": "markdown",
   "id": "14fcbed5",
   "metadata": {},
   "source": [
    "### Question1\n",
    "Create a function that takes three parameters where:\n",
    "\n",
    "•\tx is the start of the range (inclusive).\n",
    "\n",
    "•\ty is the end of the range (inclusive).\n",
    "\n",
    "•\tn is the divisor to be checked against.\n",
    "\n",
    "Return an ordered list with numbers in the range that are divisible by the third parameter n. Return an empty list if there are no numbers that are divisible by n.\n",
    "\n",
    "Examples\n",
    "\n",
    "list_operation(1, 10, 3) ➞ [3, 6, 9]\n",
    "\n",
    "list_operation(7, 9, 2) ➞ [8]\n",
    "\n",
    "list_operation(15, 20, 7) ➞ []\n"
   ]
  },
  {
   "cell_type": "code",
   "execution_count": 4,
   "id": "96b47e2a",
   "metadata": {},
   "outputs": [],
   "source": [
    "def list_operation(x,y,n):\n",
    "    list1 = list(range(x,y+1))\n",
    "    list1 = [x for x in list1 if x%n == 0]\n",
    "    list1 = sorted(list1)\n",
    "    return list1"
   ]
  },
  {
   "cell_type": "code",
   "execution_count": 8,
   "id": "582dac8f",
   "metadata": {},
   "outputs": [
    {
     "name": "stdout",
     "output_type": "stream",
     "text": [
      "enter starting range: 15\n",
      "enter ending range: 20\n",
      "enter divisor:7\n",
      "[]\n"
     ]
    }
   ],
   "source": [
    "x = int(input(\"enter starting range: \"))\n",
    "y = int(input(\"enter ending range: \"))\n",
    "n = int(input('enter divisor:'))\n",
    "print(list_operation(x,y,n))\n",
    "        "
   ]
  },
  {
   "cell_type": "markdown",
   "id": "60085cbf",
   "metadata": {},
   "source": [
    "### Question2\n",
    "Create a function that takes in two lists and returns True if the second list follows the first list by one element, and False otherwise. In other words, determine if the second list is the first list shifted to the right by 1.\n",
    "\n",
    "Examples\n",
    "\n",
    "simon_says([1, 2], [5, 1]) ➞ True\n",
    "\n",
    "simon_says([1, 2], [5, 5]) ➞ False\n",
    "\n",
    "simon_says([1, 2, 3, 4, 5], [0, 1, 2, 3, 4]) ➞ True\n",
    "\n",
    "simon_says([1, 2, 3, 4, 5], [5, 5, 1, 2, 3]) ➞ False\n",
    "\n",
    "Notes\n",
    "\n",
    "•\tBoth input lists will be of the same length, and will have a minimum length of 2.\n",
    "\n",
    "•\tThe values of the 0-indexed element in the second list and the n-1th indexed element in the first list do not matter."
   ]
  },
  {
   "cell_type": "code",
   "execution_count": 3,
   "id": "ef056a3f",
   "metadata": {},
   "outputs": [],
   "source": [
    "def simon_says(list1,list2):\n",
    "    list1.pop(-1)\n",
    "    list2.pop(0)\n",
    "    if list1 == list2:\n",
    "        return True\n",
    "    else:\n",
    "        return False"
   ]
  },
  {
   "cell_type": "code",
   "execution_count": 6,
   "id": "65b409cf",
   "metadata": {
    "scrolled": true
   },
   "outputs": [
    {
     "name": "stdout",
     "output_type": "stream",
     "text": [
      "enter the first list: 1,2,3,4,5\n",
      "enter the second list: 5,5,1,2,3\n",
      "False\n"
     ]
    }
   ],
   "source": [
    "list1 = list(map(int,input('enter the first list: ').split(',')))\n",
    "list2 = list(map(int,input('enter the second list: ').split(',')))\n",
    "if len(list1) == len(list2):\n",
    "    print(simon_says(list1,list2))\n",
    "else :\n",
    "    print(\"two lists are not of equal length\")"
   ]
  },
  {
   "cell_type": "markdown",
   "id": "53cd5659",
   "metadata": {},
   "source": [
    "### Question3\n",
    "A group of friends have decided to start a secret society. The name will be the first letter of each of their names, sorted in alphabetical order.\n",
    "Create a function that takes in a list of names and returns the name of the secret society.\n",
    "\n",
    "Examples\n",
    "\n",
    "society_name([\"Adam\", \"Sarah\", \"Malcolm\"]) ➞ \"AMS\"\n",
    "\n",
    "society_name([\"Harry\", \"Newt\", \"Luna\", \"Cho\"]) ➞ \"CHLN\"\n",
    "\n",
    "society_name([\"Phoebe\", \"Chandler\", \"Rachel\", \"Ross\", \"Monica\", \"Joey\"])\n",
    "\n",
    "Adam,Sarah,Malcolm\n",
    "\n",
    "Harry,Newt,Luna,Cho\n",
    "\n"
   ]
  },
  {
   "cell_type": "code",
   "execution_count": 5,
   "id": "59d6e637",
   "metadata": {},
   "outputs": [],
   "source": [
    "def society_name(list1):\n",
    "    list1 = [x[0] for x in list1]\n",
    "    list1 = \"\".join(sorted(list1))\n",
    "    return list1"
   ]
  },
  {
   "cell_type": "code",
   "execution_count": 9,
   "id": "4acb7662",
   "metadata": {},
   "outputs": [
    {
     "name": "stdout",
     "output_type": "stream",
     "text": [
      "enter the names (separated by comma) :Harry,Newt,Luna,Cho\n",
      "\n",
      " name of the secret society is:  CHLN\n"
     ]
    }
   ],
   "source": [
    "name_list = input(\"enter the names (separated by comma) :\").split(',')\n",
    "print('\\n name of the secret society is: ',society_name(name_list))"
   ]
  },
  {
   "cell_type": "markdown",
   "id": "6335974a",
   "metadata": {},
   "source": [
    "### Question4\n",
    "An isogram is a word that has no duplicate letters. Create a function that takes a string and returns either True or False depending on whether or not it's an \"isogram\".\n",
    "\n",
    "Examples\n",
    "\n",
    "is_isogram(\"Algorism\") ➞ True\n",
    "\n",
    "is_isogram(\"PasSword\") ➞ False\n",
    "\n",
    "# Not case sensitive.\n",
    "\n",
    "is_isogram(\"Consecutive\") ➞ False\n",
    "\n",
    "Notes\n",
    "\n",
    "•\tIgnore letter case (should not be case sensitive).\n",
    "\n",
    "•\tAll test cases contain valid one word strings.\n"
   ]
  },
  {
   "cell_type": "code",
   "execution_count": 23,
   "id": "0ad3c58f",
   "metadata": {},
   "outputs": [],
   "source": [
    "def is_isogram(str1):\n",
    "    list1 = [x.lower() for x in str1]\n",
    "    if len(list1) == len(list(set(list1))):\n",
    "        return True\n",
    "    else: \n",
    "        return False"
   ]
  },
  {
   "cell_type": "code",
   "execution_count": 25,
   "id": "cefce12c",
   "metadata": {},
   "outputs": [
    {
     "name": "stdout",
     "output_type": "stream",
     "text": [
      "enter your word: PasSword\n",
      "\n",
      " False\n"
     ]
    }
   ],
   "source": [
    "word = input(\"enter your word: \")\n",
    "print('\\n',is_isogram(word))"
   ]
  },
  {
   "cell_type": "markdown",
   "id": "d2fe453d",
   "metadata": {},
   "source": [
    "### Question5\n",
    "Create a function that takes a string and returns True or False, depending on whether the characters are in order or not.\n",
    "\n",
    "Examples\n",
    "\n",
    "is_in_order(\"abc\") ➞ True\n",
    "\n",
    "is_in_order(\"edabit\") ➞ False\n",
    "\n",
    "is_in_order(\"123\") ➞ True\n",
    "\n",
    "is_in_order(\"xyzz\") ➞ True\n",
    "\n",
    "Notes\n",
    "\n",
    "You don't have to handle empty strings.\n"
   ]
  },
  {
   "cell_type": "code",
   "execution_count": 31,
   "id": "8f897a50",
   "metadata": {},
   "outputs": [],
   "source": [
    "def is_in_order(str1):\n",
    "    if str1 == \"\".join(sorted(str1)):\n",
    "        return True\n",
    "    else:\n",
    "        return False\n",
    "    "
   ]
  },
  {
   "cell_type": "code",
   "execution_count": 35,
   "id": "86960be7",
   "metadata": {},
   "outputs": [
    {
     "name": "stdout",
     "output_type": "stream",
     "text": [
      "enter your string: 435665\n"
     ]
    },
    {
     "data": {
      "text/plain": [
       "False"
      ]
     },
     "execution_count": 35,
     "metadata": {},
     "output_type": "execute_result"
    }
   ],
   "source": [
    "str1 = input(\"enter your string: \")\n",
    "is_in_order(str1)"
   ]
  }
 ],
 "metadata": {
  "kernelspec": {
   "display_name": "Python 3",
   "language": "python",
   "name": "python3"
  },
  "language_info": {
   "codemirror_mode": {
    "name": "ipython",
    "version": 3
   },
   "file_extension": ".py",
   "mimetype": "text/x-python",
   "name": "python",
   "nbconvert_exporter": "python",
   "pygments_lexer": "ipython3",
   "version": "3.8.8"
  }
 },
 "nbformat": 4,
 "nbformat_minor": 5
}
