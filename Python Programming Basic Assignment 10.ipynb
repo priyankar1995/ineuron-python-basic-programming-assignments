{
 "cells": [
  {
   "cell_type": "markdown",
   "id": "90ec7c25",
   "metadata": {},
   "source": [
    "### 1.\tWrite a Python program to find sum of elements in list?"
   ]
  },
  {
   "cell_type": "code",
   "execution_count": 3,
   "id": "2f006bcb",
   "metadata": {},
   "outputs": [
    {
     "name": "stdout",
     "output_type": "stream",
     "text": [
      "enter your list separated by space : 1 2 3 2 3 2\n",
      "sum =  13\n"
     ]
    }
   ],
   "source": [
    "list1 = list(map(int,input(\"enter your list elements separated by space : \").split()))\n",
    "sum = 0\n",
    "for i in list1:\n",
    "    sum += i\n",
    "print(\"sum = \",sum)"
   ]
  },
  {
   "cell_type": "markdown",
   "id": "1fc29f3e",
   "metadata": {},
   "source": [
    "### 2.\tWrite a Python program to  Multiply all numbers in the list?"
   ]
  },
  {
   "cell_type": "code",
   "execution_count": 7,
   "id": "f80f9bed",
   "metadata": {},
   "outputs": [
    {
     "name": "stdout",
     "output_type": "stream",
     "text": [
      "enter your list separated by space : 2 1 4 2 3 2\n",
      "multiplication =  96\n"
     ]
    }
   ],
   "source": [
    "list1 = list(map(int,input(\"enter your list elements separated by space : \").split()))\n",
    "mul = 1\n",
    "for i in list1:\n",
    "    mul *= i\n",
    "print(\"multiplication = \",mul)"
   ]
  },
  {
   "cell_type": "markdown",
   "id": "42c02d7f",
   "metadata": {},
   "source": [
    "### 3.\tWrite a Python program to find smallest number in a list?"
   ]
  },
  {
   "cell_type": "code",
   "execution_count": 8,
   "id": "91600258",
   "metadata": {},
   "outputs": [
    {
     "name": "stdout",
     "output_type": "stream",
     "text": [
      "enter your list separated by space : 2 3 2 2 4 2 1 \n",
      "the smallest number :  1\n"
     ]
    }
   ],
   "source": [
    "list1 = list(map(int,input(\"enter your list elements separated by space : \").split()))\n",
    "print(\"the smallest number : \", min(list1))"
   ]
  },
  {
   "cell_type": "markdown",
   "id": "50734ba5",
   "metadata": {},
   "source": [
    "### 4.\tWrite a Python program to find largest number in a list?"
   ]
  },
  {
   "cell_type": "code",
   "execution_count": 3,
   "id": "35419b65",
   "metadata": {},
   "outputs": [
    {
     "name": "stdout",
     "output_type": "stream",
     "text": [
      "enter your list separated by space : 5 8 9 8 9 2 1 2 3 2 1\n",
      "the largest number :  9\n"
     ]
    }
   ],
   "source": [
    "list1 = list(map(int,input(\"enter your list elements separated by space : \").split()))\n",
    "print(\"the largest number : \", max(list(set(list1))))"
   ]
  },
  {
   "cell_type": "markdown",
   "id": "4a321da2",
   "metadata": {},
   "source": [
    "### 5.\tWrite a Python program to find second largest number in a list?"
   ]
  },
  {
   "cell_type": "code",
   "execution_count": 4,
   "id": "f7ab128b",
   "metadata": {},
   "outputs": [
    {
     "name": "stdout",
     "output_type": "stream",
     "text": [
      "enter your list separated by space : 10 3 4 2 11 10 11 4 5 3\n",
      "the second largest number :  10\n"
     ]
    }
   ],
   "source": [
    "list1 = list(map(int,input(\"enter your list elements separated by space : \").split()))\n",
    "list1 = list(set(list1))\n",
    "list1.remove(max(list1))\n",
    "print(\"the second largest number : \", max(list1))"
   ]
  },
  {
   "cell_type": "markdown",
   "id": "99f34f72",
   "metadata": {},
   "source": [
    "### 6.\tWrite a Python program to find N largest elements from a list?"
   ]
  },
  {
   "cell_type": "code",
   "execution_count": 6,
   "id": "23e6e43f",
   "metadata": {},
   "outputs": [
    {
     "name": "stdout",
     "output_type": "stream",
     "text": [
      "enter your list separated by space : 9 9 10 10 8 7 62 34 32 12 2 3 1 2 56\n",
      "enter the value of N : 7\n",
      "the 7 th largest number : 9\n"
     ]
    }
   ],
   "source": [
    "list1 = list(map(int,input(\"enter your list elements separated by space : \").split()))\n",
    "n = int(input(\"enter the value of N : \"))\n",
    "list1 = list(set(list1))\n",
    "for i in range(n-1):\n",
    "    list1.remove(max(list1))\n",
    "print(\"the {} th largest number = {}\".format(n, max(list1)))"
   ]
  },
  {
   "cell_type": "markdown",
   "id": "30f21cb8",
   "metadata": {},
   "source": [
    "### 7.\tWrite a Python program to print even numbers in a list?"
   ]
  },
  {
   "cell_type": "code",
   "execution_count": 8,
   "id": "92ba3df9",
   "metadata": {},
   "outputs": [
    {
     "name": "stdout",
     "output_type": "stream",
     "text": [
      "enter your list separated by space : 23 4 23 23 121 4 354 23 32\n",
      "your even number list =  [4, 4, 354, 32]\n"
     ]
    }
   ],
   "source": [
    "list1 = list(map(int,input(\"enter your list elements separated by space : \").split()))\n",
    "list2 = [x for x in list1 if x%2 == 0]\n",
    "print('your even number list = ',*list2)"
   ]
  },
  {
   "cell_type": "markdown",
   "id": "82dfcd56",
   "metadata": {},
   "source": [
    "### 8.\tWrite a Python program to print odd numbers in a List?"
   ]
  },
  {
   "cell_type": "code",
   "execution_count": 9,
   "id": "d2ee1569",
   "metadata": {},
   "outputs": [
    {
     "name": "stdout",
     "output_type": "stream",
     "text": [
      "enter your list separated by space : 1 22 3 2 43 23 2 3 2 54 4 3 23\n",
      "your odd number list =  [1, 3, 43, 23, 3, 3, 23]\n"
     ]
    }
   ],
   "source": [
    "list1 = list(map(int,input(\"enter your list elements separated by space : \").split()))\n",
    "list2 = [x for x in list1 if x%2 != 0]\n",
    "print('your odd number list = ',*list2)"
   ]
  },
  {
   "cell_type": "markdown",
   "id": "cfc20432",
   "metadata": {},
   "source": [
    "### 9.\tWrite a Python program to Remove empty List from List?"
   ]
  },
  {
   "cell_type": "code",
   "execution_count": 10,
   "id": "5439c288",
   "metadata": {},
   "outputs": [
    {
     "name": "stdout",
     "output_type": "stream",
     "text": [
      "[[2, 3, 2, 3], [43, 32, 43, 54], [234, 23, 34, 45], [1, 4, 3, 5, 4]]\n"
     ]
    }
   ],
   "source": [
    "list1 = [[2,3,2,3],[43,32,43,54],[],[234,23,34,45],[],[1,4,3,5,4]]\n",
    "list2 = []\n",
    "for i in list1:\n",
    "    if len(i) != 0:\n",
    "        list2.append(i)\n",
    "        \n",
    "print('your final list: ',list2)"
   ]
  },
  {
   "cell_type": "code",
   "execution_count": 17,
   "id": "0e06fbc2",
   "metadata": {},
   "outputs": [
    {
     "name": "stdout",
     "output_type": "stream",
     "text": [
      "2\n",
      "enter your sublists one by one (space separated elements): \n",
      "enter your sublists one by one (space separated elements): \n",
      "your final list:  []\n"
     ]
    }
   ],
   "source": [
    "n = int(input())\n",
    "list1 = []\n",
    "for i in range(n):\n",
    "    list2 = list(map(int,input(\"enter your sublists one by one (space separated elements): \").split()))\n",
    "    if len(list2) != 0:\n",
    "        list1.append(list2)\n",
    "print('your final list: ',list1)"
   ]
  },
  {
   "cell_type": "markdown",
   "id": "db6394d9",
   "metadata": {},
   "source": [
    "### 10.\tWrite a Python program to Cloning or Copying a list?"
   ]
  },
  {
   "cell_type": "code",
   "execution_count": 19,
   "id": "a60cf0bc",
   "metadata": {},
   "outputs": [
    {
     "name": "stdout",
     "output_type": "stream",
     "text": [
      "enter your list elements separated by space : 4 3 5 34 3\n",
      "your copied list: 4 3 5 34 3\n"
     ]
    }
   ],
   "source": [
    "list1 = list(map(int,input(\"enter your list elements separated by space : \").split()))\n",
    "list2 = list1[:]\n",
    "print('your copied list:',*list2)"
   ]
  },
  {
   "cell_type": "markdown",
   "id": "1e89f72c",
   "metadata": {},
   "source": [
    "### 11.\tWrite a Python program to Count occurrences of an element in a list?"
   ]
  },
  {
   "cell_type": "code",
   "execution_count": 21,
   "id": "ea5c4cc7",
   "metadata": {},
   "outputs": [
    {
     "name": "stdout",
     "output_type": "stream",
     "text": [
      "enter your list elements separated by space : 3 3 4 2 3 2 3 2 1\n",
      "which element do you want to search ? 3\n",
      "3 occured 4 times\n"
     ]
    }
   ],
   "source": [
    "list1 = list(map(int,input(\"enter your list elements separated by space : \").split()))\n",
    "n = int(input(\"which element do you want to search? \"))\n",
    "print(\"{} occured {} times\".format(n,list1.count(n)))\n",
    "    "
   ]
  }
 ],
 "metadata": {
  "kernelspec": {
   "display_name": "Python 3",
   "language": "python",
   "name": "python3"
  },
  "language_info": {
   "codemirror_mode": {
    "name": "ipython",
    "version": 3
   },
   "file_extension": ".py",
   "mimetype": "text/x-python",
   "name": "python",
   "nbconvert_exporter": "python",
   "pygments_lexer": "ipython3",
   "version": "3.8.8"
  }
 },
 "nbformat": 4,
 "nbformat_minor": 5
}
