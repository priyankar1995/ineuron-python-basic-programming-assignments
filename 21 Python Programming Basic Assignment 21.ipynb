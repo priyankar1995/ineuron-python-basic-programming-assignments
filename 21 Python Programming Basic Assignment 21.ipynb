{
 "cells": [
  {
   "cell_type": "markdown",
   "id": "17839d1d",
   "metadata": {},
   "source": [
    "### Question1\n",
    "Write a function that takes a list and a number as arguments. Add the number to the end of the list, then remove the first element of the list. The function should then return the updated list.\n",
    "\n",
    "Examples\n",
    "\n",
    "next_in_line([5, 6, 7, 8, 9], 1) ➞ [6, 7, 8, 9, 1]\n",
    "\n",
    "next_in_line([7, 6, 3, 23, 17], 10) ➞ [6, 3, 23, 17, 10]\n",
    "\n",
    "next_in_line([1, 10, 20, 42 ], 6) ➞ [10, 20, 42, 6]\n",
    "\n",
    "next_in_line([], 6) ➞ \"No list has been selected\"\n",
    "\n"
   ]
  },
  {
   "cell_type": "code",
   "execution_count": 1,
   "id": "487551fa",
   "metadata": {},
   "outputs": [],
   "source": [
    "def next_in_line(list1,x):\n",
    "    list1.pop(0)\n",
    "    list1.append(x)\n",
    "    return list1"
   ]
  },
  {
   "cell_type": "code",
   "execution_count": 6,
   "id": "9f2da9dd",
   "metadata": {},
   "outputs": [
    {
     "name": "stdout",
     "output_type": "stream",
     "text": [
      "enter your list(comma and space separated):1, 10, 20, 42 \n",
      "enter the new element:6\n",
      "\n",
      "your updated list: \n",
      " 10 20 42  6\n"
     ]
    }
   ],
   "source": [
    "list1 = input(\"enter your list(comma and space separated):\").split(', ')\n",
    "x = input(\"enter the new element:\")\n",
    "if len(list1) == 0:\n",
    "    print(\"No list has been selected\")\n",
    "else:\n",
    "    print(\"\\nyour updated list: \\n\",*next_in_line(list1,x))"
   ]
  },
  {
   "cell_type": "code",
   "execution_count": 14,
   "id": "e4730b0f",
   "metadata": {},
   "outputs": [
    {
     "name": "stdout",
     "output_type": "stream",
     "text": [
      "[6, 3, 23, 17, 10]\n"
     ]
    }
   ],
   "source": [
    "list1,x=[7, 6, 3, 23, 17], 10\n",
    "list1.pop(0)\n",
    "list1.append(x)\n",
    "print(list1)"
   ]
  },
  {
   "cell_type": "markdown",
   "id": "8b6a2f1d",
   "metadata": {},
   "source": [
    "### Question2\n",
    "Create the function that takes a list of dictionaries and returns the sum of people's budgets.\n",
    "\n",
    "Examples\n",
    "\n",
    "get_budgets([\n",
    "\n",
    "  { \"name\": \"John\", \"age\": 21, \"budget\": 23000 },\n",
    "\n",
    "  { \"name\": \"Steve\",  \"age\": 32, \"budget\": 40000 },\n",
    "\n",
    "  { \"name\": \"Martin\",  \"age\": 16, \"budget\": 2700 }\n",
    "\n",
    "]) ➞ 65700\n",
    "\n",
    "get_budgets([\n",
    "\n",
    "  { \"name\": \"John\",  \"age\": 21, \"budget\": 29000 },\n",
    "\n",
    "  { \"name\": \"Steve\",  \"age\": 32, \"budget\": 32000 },\n",
    "\n",
    "  { \"name\": \"Martin\",  \"age\": 16, \"budget\": 1600 }\n",
    "\n",
    "]) ➞ 62600\n"
   ]
  },
  {
   "cell_type": "code",
   "execution_count": 13,
   "id": "cdf2b608",
   "metadata": {},
   "outputs": [],
   "source": [
    "def get_budgets(dict_list):\n",
    "    budget = 0\n",
    "    for i in dict_list:\n",
    "        budget += i['budget']\n",
    "    return budget"
   ]
  },
  {
   "cell_type": "code",
   "execution_count": 15,
   "id": "fd542789",
   "metadata": {},
   "outputs": [
    {
     "name": "stdout",
     "output_type": "stream",
     "text": [
      "number of people in your list: 4\n",
      "name : a\n",
      "age: 1\n",
      "budget: 10\n",
      "name : b\n",
      "age: 2\n",
      "budget: 20\n",
      "name : 3\n",
      "age: 45\n",
      "budget: 4\n",
      "name : d\n",
      "age: 3\n",
      "budget: 55\n",
      "\n",
      "total budget =  89.0\n"
     ]
    }
   ],
   "source": [
    "n = int(input(\"number of people in your list: \"))\n",
    "dict_list=[] \n",
    "for i in range(n):\n",
    "    dict1 = {}\n",
    "    dict1['name'] = input(\"name : \")\n",
    "    dict1['age']  = float(input(\"age: \"))\n",
    "    dict1['budget'] = float(input(\"budget: \"))\n",
    "    dict_list.append(dict1)\n",
    "print(\"\\ntotal budget = \", get_budgets(dict_list))\n",
    "\n",
    "    "
   ]
  },
  {
   "cell_type": "markdown",
   "id": "ad29cb73",
   "metadata": {},
   "source": [
    "### Question3\n",
    "\n",
    "Create a function that takes a string and returns a string with its letters in alphabetical order.\n",
    "\n",
    "Examples\n",
    "\n",
    "alphabet_soup(\"hello\") ➞ \"ehllo\"\n",
    "\n",
    "alphabet_soup(\"edabit\") ➞ \"abdeit\"\n",
    "\n",
    "alphabet_soup(\"hacker\") ➞ \"acehkr\"\n",
    "\n",
    "alphabet_soup(\"geek\") ➞ \"eegk\"\n",
    "\n",
    "alphabet_soup(\"javascript\") ➞ \"aacijprstv\"\n"
   ]
  },
  {
   "cell_type": "code",
   "execution_count": 16,
   "id": "c588b373",
   "metadata": {},
   "outputs": [],
   "source": [
    "def alphabet_soup(str1):\n",
    "    str1 = \"\".join(sorted(str1))\n",
    "    return str1"
   ]
  },
  {
   "cell_type": "code",
   "execution_count": 19,
   "id": "9d23a0fe",
   "metadata": {},
   "outputs": [
    {
     "name": "stdout",
     "output_type": "stream",
     "text": [
      "enter your string: dstregfghtrwe\n",
      "\n",
      "your sorted string: \n",
      " deefgghrrsttw\n"
     ]
    }
   ],
   "source": [
    "str1 = input(\"enter your string: \")\n",
    "print('\\nyour sorted string: \\n',alphabet_soup(str1))"
   ]
  },
  {
   "cell_type": "markdown",
   "id": "ea6eaffa",
   "metadata": {},
   "source": [
    "### Question4\n",
    "Suppose that you invest $10,000 for 10 years at an interest rate of 6% compounded monthly. What will be the value of your investment at the end of the 10 year period?\n",
    "\n",
    "Create a function that accepts the principal p, the term in years t, the interest rate r, and the number of compounding periods per year n. The function returns the value at the end of term rounded to the nearest cent.\n",
    "\n",
    "For the example above:\n",
    "compound_interest(10000, 10, 0.06, 12) ➞ 18193.97\n",
    "\n",
    "Note that the interest rate is given as a decimal and n=12 because with monthly compounding there are 12 periods per year. Compounding can also be done annually, quarterly, weekly, or daily.\n",
    "\n",
    "Examples\n",
    "\n",
    "compound_interest(100, 1, 0.05, 1) ➞ 105.0\n",
    "\n",
    "compound_interest(3500, 15, 0.1, 4) ➞ 15399.26\n",
    "\n",
    "compound_interest(100000, 20, 0.15, 365) ➞ 2007316.26\n"
   ]
  },
  {
   "cell_type": "code",
   "execution_count": 40,
   "id": "7420b3d7",
   "metadata": {},
   "outputs": [],
   "source": [
    "def compound_interest(p,t,r,n):\n",
    "    amount = p*((1+(r/n))**(n*t))\n",
    "    return '{0:.2f}'.format(amount)\n"
   ]
  },
  {
   "cell_type": "code",
   "execution_count": 42,
   "id": "71f7ff5d",
   "metadata": {
    "scrolled": true
   },
   "outputs": [
    {
     "name": "stdout",
     "output_type": "stream",
     "text": [
      "enter your principle = 10000\n",
      "enter your terms in years = 10\n",
      "enter the interest rate = 0.06\n",
      "enter number of compounding periods per year = 12\n",
      "\n",
      "your final interested amount:\n",
      " 18193.97\n"
     ]
    }
   ],
   "source": [
    "p = float(input('enter your principle = '))\n",
    "t = float(input('enter your terms in years = '))\n",
    "r = float(input('enter the interest rate = '))\n",
    "n = float(input('enter number of compounding periods per year = '))\n",
    "print('\\nyour final interested amount:\\n',compound_interest(p,t,r,n))"
   ]
  },
  {
   "cell_type": "markdown",
   "id": "9e85c4d1",
   "metadata": {},
   "source": [
    "# Question5\n",
    "Write a function that takes a list of elements and returns only the integers.\n",
    "\n",
    "Examples\n",
    "\n",
    "return_only_integer([9, 2, \"space\", \"car\", \"lion\", 16]) ➞ [9, 2, 16]\n",
    "\n",
    "return_only_integer([\"hello\", 81, \"basketball\", 123, \"fox\"]) ➞ [81, 123]\n",
    "\n",
    "return_only_integer([10, \"121\", 56, 20, \"car\", 3, \"lion\"]) ➞ [10, 56, 20, 3]\n",
    "\n",
    "return_only_integer([\"String\",  True,  3.3,  1]) ➞ [1]\n"
   ]
  },
  {
   "cell_type": "code",
   "execution_count": 45,
   "id": "d23d2cd0",
   "metadata": {},
   "outputs": [],
   "source": [
    "def return_only_integer(list1):\n",
    "    list2 = []\n",
    "    for i in list1:\n",
    "        try:\n",
    "            list2.append(int(i))\n",
    "        except:\n",
    "            pass\n",
    "    return list2"
   ]
  },
  {
   "cell_type": "code",
   "execution_count": 59,
   "id": "a0276e31",
   "metadata": {},
   "outputs": [
    {
     "name": "stdout",
     "output_type": "stream",
     "text": [
      "enter your list (comma and space separated): 10, \"121\", 56, 20, \"car\", 3, \"lion\"\n",
      "\n",
      "your new integer list\n",
      " [10, 56, 20, 3]\n"
     ]
    }
   ],
   "source": [
    "list1 = input(\"enter your list (comma and space separated): \").split(', ')\n",
    "print('\\nyour new integer list\\n',return_only_integer(list1))"
   ]
  }
 ],
 "metadata": {
  "kernelspec": {
   "display_name": "Python 3",
   "language": "python",
   "name": "python3"
  },
  "language_info": {
   "codemirror_mode": {
    "name": "ipython",
    "version": 3
   },
   "file_extension": ".py",
   "mimetype": "text/x-python",
   "name": "python",
   "nbconvert_exporter": "python",
   "pygments_lexer": "ipython3",
   "version": "3.8.8"
  }
 },
 "nbformat": 4,
 "nbformat_minor": 5
}
