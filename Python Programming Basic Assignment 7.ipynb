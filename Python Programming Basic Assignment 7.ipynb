{
 "cells": [
  {
   "cell_type": "markdown",
   "id": "4d44c3f9",
   "metadata": {},
   "source": [
    "### 1.\tWrite a Python Program to find sum of array?"
   ]
  },
  {
   "cell_type": "code",
   "execution_count": 7,
   "id": "9c0177dd",
   "metadata": {},
   "outputs": [
    {
     "name": "stdout",
     "output_type": "stream",
     "text": [
      "enter your array (separated with space): 1 2 3 4 3 2 1\n",
      "sum of the array =  16\n"
     ]
    }
   ],
   "source": [
    "arr1 = list(map(int,input(\"enter your array (separated with space): \").split()))\n",
    "sum=0\n",
    "for i in arr1:\n",
    "    sum += i\n",
    "print(\"sum of the array = \",sum)"
   ]
  },
  {
   "cell_type": "markdown",
   "id": "e10724e8",
   "metadata": {},
   "source": [
    "### 2.\tWrite a Python Program to find largest element in an array?"
   ]
  },
  {
   "cell_type": "code",
   "execution_count": 23,
   "id": "4995c21d",
   "metadata": {},
   "outputs": [
    {
     "name": "stdout",
     "output_type": "stream",
     "text": [
      "enter your array (separated with space): 10 9 10 3 4 5 11 2 1\n",
      "largest number in your array is =  11\n"
     ]
    }
   ],
   "source": [
    "arr1 = list(map(int,input(\"enter your array (separated with space): \").split()))\n",
    "largest = arr1[0]\n",
    "for i in range(len(arr1)):\n",
    "    if arr1[i] > largest:\n",
    "        largest = arr1[i]\n",
    "print(\"largest number in your array is = \", largest)"
   ]
  },
  {
   "cell_type": "markdown",
   "id": "88033f4d",
   "metadata": {},
   "source": [
    "### 3.\tWrite a Python Program for array rotation?"
   ]
  },
  {
   "cell_type": "code",
   "execution_count": 26,
   "id": "cc812d00",
   "metadata": {},
   "outputs": [
    {
     "name": "stdout",
     "output_type": "stream",
     "text": [
      "enter your array (separated with space): 3 4\n",
      "how many times you want to rotate? 3\n",
      "your rotated array =  4 3\n"
     ]
    }
   ],
   "source": [
    "arr1 = list(map(int,input(\"enter your array (separated with space): \").split()))\n",
    "n = int(input(\"how many times you want to rotate? \"))\n",
    "for i in range(n):\n",
    "    new = arr1[0]\n",
    "    arr1.pop(0)\n",
    "    arr1.append(new)\n",
    "print(\"your rotated array = \", *arr1)"
   ]
  },
  {
   "cell_type": "markdown",
   "id": "f04f483a",
   "metadata": {},
   "source": [
    "### 4.\tWrite a Python Program to Split the array and add the first part to the end?"
   ]
  },
  {
   "cell_type": "code",
   "execution_count": 31,
   "id": "24b7ba0a",
   "metadata": {},
   "outputs": [
    {
     "name": "stdout",
     "output_type": "stream",
     "text": [
      "enter your array (separated with space): 4 5 32 2 43 2 1 1 4 \n",
      "your new array =  43 2 1 1 4 4 5 32 2\n"
     ]
    }
   ],
   "source": [
    "arr1 = list(map(int,input(\"enter your array (separated with space): \").split()))\n",
    "arr1 = arr1[len(arr1)//2:] + arr1[:len(arr1)//2]\n",
    "print(\"your new array = \", *arr1)"
   ]
  },
  {
   "cell_type": "markdown",
   "id": "f2e004cb",
   "metadata": {},
   "source": [
    "### 5.\tWrite a Python Program to check if given array is Monotonic?"
   ]
  },
  {
   "cell_type": "code",
   "execution_count": 34,
   "id": "1322741d",
   "metadata": {},
   "outputs": [
    {
     "name": "stdout",
     "output_type": "stream",
     "text": [
      "enter your array (separated with space): 5 4 3 2 1\n",
      "your array is montonic\n"
     ]
    }
   ],
   "source": [
    "arr1 = list(map(int,input(\"enter your array (separated with space): \").split()))\n",
    "if arr1 == sorted(arr1) or arr1 == sorted(arr1,reverse=True):\n",
    "    print(\"your array is montonic\")\n",
    "else:\n",
    "    print(\"your array is not montonic\")"
   ]
  }
 ],
 "metadata": {
  "kernelspec": {
   "display_name": "Python 3",
   "language": "python",
   "name": "python3"
  },
  "language_info": {
   "codemirror_mode": {
    "name": "ipython",
    "version": 3
   },
   "file_extension": ".py",
   "mimetype": "text/x-python",
   "name": "python",
   "nbconvert_exporter": "python",
   "pygments_lexer": "ipython3",
   "version": "3.8.8"
  }
 },
 "nbformat": 4,
 "nbformat_minor": 5
}
