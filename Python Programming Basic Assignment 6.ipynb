{
 "cells": [
  {
   "cell_type": "markdown",
   "id": "09b8d1c4",
   "metadata": {},
   "source": [
    "### 1.\tWrite a Python Program to Display Fibonacci Sequence Using Recursion?"
   ]
  },
  {
   "cell_type": "code",
   "execution_count": 1,
   "id": "42ce2488",
   "metadata": {},
   "outputs": [],
   "source": [
    "def fibonacci(n,list1=[0,1]):\n",
    "    list1.append(list1[-1]+list1[-2])\n",
    "    n-=1\n",
    "    if n==0:\n",
    "        return list1\n",
    "    return fibonacci(n,list1= list1)"
   ]
  },
  {
   "cell_type": "code",
   "execution_count": 3,
   "id": "1c432ca9",
   "metadata": {},
   "outputs": [
    {
     "name": "stdout",
     "output_type": "stream",
     "text": [
      "how many fibonacci numbers you want (enter a number greater than 2) : 10\n",
      "your fibonacci series is : 0 1 1 2 3 5 8 13 21 34\n"
     ]
    }
   ],
   "source": [
    "n = int(input(\"how many fibonacci numbers you want (enter a number greater than 2) : \"))\n",
    "list1=[0,1]\n",
    "print(\"your fibonacci series is :\",*fibonacci(n-2,list1))\n",
    "list1 = list1"
   ]
  },
  {
   "cell_type": "markdown",
   "id": "10734627",
   "metadata": {},
   "source": [
    "### 2.\tWrite a Python Program to Find Factorial of Number Using Recursion?"
   ]
  },
  {
   "cell_type": "code",
   "execution_count": 9,
   "id": "d843a62a",
   "metadata": {},
   "outputs": [],
   "source": [
    "def factorial(n,fact = 1):\n",
    "    fact=fact * n\n",
    "    n=n-1\n",
    "    if n==0:\n",
    "        return fact\n",
    "    return factorial(n,fact = fact)"
   ]
  },
  {
   "cell_type": "code",
   "execution_count": 12,
   "id": "be112103",
   "metadata": {},
   "outputs": [
    {
     "name": "stdout",
     "output_type": "stream",
     "text": [
      "enter your number: 3\n",
      "factorial =  6\n"
     ]
    }
   ],
   "source": [
    "n= int(input(\"enter your number: \"))\n",
    "print(\"factorial = \",factorial(n))"
   ]
  },
  {
   "cell_type": "markdown",
   "id": "a99e45c2",
   "metadata": {},
   "source": [
    "###  3.\tWrite a Python Program to calculate your Body Mass Index?"
   ]
  },
  {
   "cell_type": "code",
   "execution_count": 8,
   "id": "49effa56",
   "metadata": {},
   "outputs": [
    {
     "name": "stdout",
     "output_type": "stream",
     "text": [
      "enter your height (in meter): 2\n",
      "enter your weight (in kilogram): 2\n",
      "your BMI is =  0.50\n"
     ]
    }
   ],
   "source": [
    "height = float(input(\"enter your height (in meter): \"))\n",
    "weight = float(input(\"enter your weight (in kilogram): \"))\n",
    "bmi = weight/height**2\n",
    "print(\"your BMI is = \",'%.2f'%bmi)"
   ]
  },
  {
   "cell_type": "markdown",
   "id": "fbc290d8",
   "metadata": {},
   "source": [
    "### 4.\tWrite a Python Program to calculate the natural logarithm of any number?"
   ]
  },
  {
   "cell_type": "code",
   "execution_count": 15,
   "id": "39d6af0a",
   "metadata": {},
   "outputs": [
    {
     "name": "stdout",
     "output_type": "stream",
     "text": [
      "enter the number: 4\n",
      "logarithm =  1.3862943611198906\n"
     ]
    }
   ],
   "source": [
    "#importing log function from math module\n",
    "from math import log\n",
    "\n",
    "n = int(input('enter the number: '))\n",
    "print(\"logarithm = \", log(n))"
   ]
  },
  {
   "cell_type": "markdown",
   "id": "1602813e",
   "metadata": {},
   "source": [
    "### 5.\tWrite a Python Program for cube sum of first n natural numbers?"
   ]
  },
  {
   "cell_type": "code",
   "execution_count": 3,
   "id": "2d82edf8",
   "metadata": {},
   "outputs": [
    {
     "name": "stdout",
     "output_type": "stream",
     "text": [
      "enter starting number: 1\n",
      "enter ending number: 10\n",
      "[1, 8, 27, 64, 125, 216, 343, 512, 729, 1000]\n",
      "3025\n"
     ]
    }
   ],
   "source": [
    "n = int(input(\"enter starting number: \"))\n",
    "m = int(input(\"enter ending number: \"))\n",
    "list1 = list(range(n,m+1))\n",
    "list1 = [ x ** 3 for x in list1]\n",
    "print(sum(list1))"
   ]
  }
 ],
 "metadata": {
  "kernelspec": {
   "display_name": "Python 3",
   "language": "python",
   "name": "python3"
  },
  "language_info": {
   "codemirror_mode": {
    "name": "ipython",
    "version": 3
   },
   "file_extension": ".py",
   "mimetype": "text/x-python",
   "name": "python",
   "nbconvert_exporter": "python",
   "pygments_lexer": "ipython3",
   "version": "3.8.8"
  }
 },
 "nbformat": 4,
 "nbformat_minor": 5
}
