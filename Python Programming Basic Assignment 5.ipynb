{
 "cells": [
  {
   "cell_type": "markdown",
   "id": "4cfe9306",
   "metadata": {},
   "source": [
    "### 1.\tWrite a Python Program to Find LCM?"
   ]
  },
  {
   "cell_type": "code",
   "execution_count": 4,
   "id": "de5d4585",
   "metadata": {},
   "outputs": [
    {
     "data": {
      "text/plain": [
       "2"
      ]
     },
     "execution_count": 4,
     "metadata": {},
     "output_type": "execute_result"
    }
   ],
   "source": [
    "def hcf(a,b):\n",
    "    if b == 0:\n",
    "        return a\n",
    "    return hcf(b,a%b)\n",
    "hcf(24,182)"
   ]
  },
  {
   "cell_type": "code",
   "execution_count": 5,
   "id": "754c8c23",
   "metadata": {},
   "outputs": [
    {
     "name": "stdout",
     "output_type": "stream",
     "text": [
      "enter the first number: 5\n",
      "enter the second number: 5\n",
      "lcm =  5\n"
     ]
    }
   ],
   "source": [
    "n = int(input(\"enter the first number: \"))\n",
    "m = int(input(\"enter the second number: \"))\n",
    "lcm = ( n * m ) // hcf(n ,m)\n",
    "print(\"lcm = \", lcm)"
   ]
  },
  {
   "cell_type": "markdown",
   "id": "de1e5717",
   "metadata": {},
   "source": [
    "### 2.\tWrite a Python Program to Find HCF?"
   ]
  },
  {
   "cell_type": "code",
   "execution_count": null,
   "id": "a7fa9c63",
   "metadata": {},
   "outputs": [],
   "source": [
    "n = int(input(\"enter the first number: \"))\n",
    "m = int(input(\"enter the second number: \"))\n",
    "print(\"hcf = \",hcf(n,m))"
   ]
  },
  {
   "cell_type": "markdown",
   "id": "696a726c",
   "metadata": {},
   "source": [
    "### 3.\tWrite a Python Program to Convert Decimal to Binary, Octal and Hexadecimal?"
   ]
  },
  {
   "cell_type": "code",
   "execution_count": null,
   "id": "1216ff7e",
   "metadata": {},
   "outputs": [],
   "source": [
    "n = int(input(\"enter your number:\"))\n",
    "print(\"equivalent binary value = \",bin(n)[2:])\n",
    "print(\"equivalent octal value = \",oct(n)[2:])\n",
    "print(\"equivalent hexadecimal value = \",hex(n)[2:])"
   ]
  },
  {
   "cell_type": "markdown",
   "id": "742d0b33",
   "metadata": {},
   "source": [
    "### 4.\tWrite a Python Program To Find ASCII value of a character?"
   ]
  },
  {
   "cell_type": "code",
   "execution_count": null,
   "id": "b90b0050",
   "metadata": {},
   "outputs": [],
   "source": [
    "n = input(\"enter your character : \")\n",
    "print(ord(n))"
   ]
  },
  {
   "cell_type": "markdown",
   "id": "a96cedc8",
   "metadata": {},
   "source": [
    "### 5.\tWrite a Python Program to Make a Simple Calculator with 4 basic mathematical operations?"
   ]
  },
  {
   "cell_type": "code",
   "execution_count": 6,
   "id": "ae65f838",
   "metadata": {},
   "outputs": [
    {
     "name": "stdout",
     "output_type": "stream",
     "text": [
      "enter your operation in this format : (operand operator operand) : \n",
      "3 + 4\n",
      "your output = \n",
      " 7\n",
      "press 1 to continue or any other numerical key to exit : \n",
      "1\n",
      "enter your operation in this format : (operand operator operand) : \n",
      "3 x 4\n",
      " your output =  12\n",
      "press 1 to continue or any other numerical key to exit : \n",
      "0\n"
     ]
    }
   ],
   "source": [
    "def calculator(a,b,c):\n",
    "    if b == \"+\":\n",
    "        return a+c\n",
    "    if b == \"-\":\n",
    "        return a-c\n",
    "    if b == \"*\" or b == \"x\" or b == \"X\":\n",
    "        return a*c\n",
    "    if b == \"/\":\n",
    "        return a/c\n",
    "a,b,c = input(\"enter your operation in this format : (operand operator operand) : \\n\").split()\n",
    "print(\"your output = \\n\", calculator(int(a),b,int(c)))\n",
    "while int(input(\"press 1 to continue or any other numerical key to exit : \\n\")) == 1:\n",
    "    a,b,c = input(\"enter your operation in this format : (operand operator operand) : \\n\").split()\n",
    "    print(\" your output = \", calculator(int(a),b,int(c)))"
   ]
  },
  {
   "cell_type": "code",
   "execution_count": null,
   "id": "da4883fb",
   "metadata": {},
   "outputs": [],
   "source": []
  }
 ],
 "metadata": {
  "kernelspec": {
   "display_name": "Python 3",
   "language": "python",
   "name": "python3"
  },
  "language_info": {
   "codemirror_mode": {
    "name": "ipython",
    "version": 3
   },
   "file_extension": ".py",
   "mimetype": "text/x-python",
   "name": "python",
   "nbconvert_exporter": "python",
   "pygments_lexer": "ipython3",
   "version": "3.8.8"
  }
 },
 "nbformat": 4,
 "nbformat_minor": 5
}
